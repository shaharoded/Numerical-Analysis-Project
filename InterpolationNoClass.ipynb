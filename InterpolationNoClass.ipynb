{
  "nbformat": 4,
  "nbformat_minor": 0,
  "metadata": {
    "colab": {
      "provenance": []
    },
    "kernelspec": {
      "name": "python3",
      "display_name": "Python 3"
    },
    "language_info": {
      "name": "python"
    }
  },
  "cells": [
    {
      "cell_type": "code",
      "execution_count": 349,
      "metadata": {
        "id": "j3GNVc82TOm0"
      },
      "outputs": [],
      "source": [
        "import numpy as np\n",
        "import matplotlib.pyplot as plt\n",
        "import math\n",
        "import random"
      ]
    },
    {
      "cell_type": "markdown",
      "source": [
        "Test for my full code"
      ],
      "metadata": {
        "id": "uNJggjqSuDk3"
      }
    },
    {
      "cell_type": "markdown",
      "source": [
        "Interpolation using Bezier:"
      ],
      "metadata": {
        "id": "cuoewxlgWA4S"
      }
    },
    {
      "cell_type": "code",
      "source": [
        "def cubic_bezier(P0, P1, P2, P3):  # Input -> the 4 points needed for every spline\n",
        "    \"\"\"\n",
        "    :return: Given the 4 points needed for Bezier's curve, this function will take care of\n",
        "    their multiplication so that the result will be a function of t ->\n",
        "    once we have the curve for every set of 4 points, this function will return the interpolation\n",
        "    value once given a t value.\n",
        "    \"\"\"\n",
        "\n",
        "    # Let P0 and P3 be 2 points returning from f(xi)\n",
        "    # Let P1 and P2 be 2 anchor points\n",
        "    M = np.array(\n",
        "        [[-1, +3, -3, +1],\n",
        "         [+3, -6, +3, 0],\n",
        "         [-3, +3, 0, 0],\n",
        "         [+1, 0, 0, 0]],\n",
        "        dtype=np.float64)  # Pascal's binomial matrix for cubic bezier\n",
        "    P = np.array([P0, P1, P2, P3], dtype=np.float64)  # Array of the 4 points\n",
        "\n",
        "    # B(t) = P0(1-t)^3 + 3*P1*t*(1-t)^2 + 3*P2*(t^2)*(1-t) + P3*(t^3)\n",
        "    def f(t):\n",
        "        T = np.array([np.power(t, 3), np.power(t, 2), t, 1], dtype=np.float64)\n",
        "        return T.dot(M).dot(P)  # T x M x P\n",
        "\n",
        "    return f"
      ],
      "metadata": {
        "id": "K4820PfcuIea"
      },
      "execution_count": 350,
      "outputs": []
    },
    {
      "cell_type": "code",
      "source": [
        "def MulThomas(a, b, c, d):  # Code taken from GitHub - Cbellei (username)\n",
        "    '''\n",
        "    An efficient algorithm for Solving linear equations in the form of A x X = B -> extracting X vector\n",
        "    :param a: an array - part of tridiagonal matrix A\n",
        "    :param b: an array - part of tridiagonal matrix A\n",
        "    :param c: an array - part of tridiagonal matrix A\n",
        "    :param d: an array - B array\n",
        "    :return: Results array (vector) -> X array\n",
        "    '''\n",
        "\n",
        "    nf = len(d)\n",
        "    ac, bc, cc, dc = map(np.array, [a, b, c, d])\n",
        "    for it in range(1, nf):\n",
        "        mc = ac[it - 1] / bc[it - 1]\n",
        "        bc[it] = bc[it] - mc * cc[it - 1]\n",
        "        dc[it] = dc[it] - mc * dc[it - 1]\n",
        "\n",
        "    xc = bc\n",
        "    xc[-1] = dc[-1] / bc[-1]\n",
        "\n",
        "    for il in range(nf - 2, -1, -1):\n",
        "        xc[il] = (dc[il] - cc[il] * xc[il + 1]) / bc[il]\n",
        "\n",
        "    return xc"
      ],
      "metadata": {
        "id": "z6dJUh97uQfn"
      },
      "execution_count": 351,
      "outputs": []
    },
    {
      "cell_type": "code",
      "source": [
        "def interpolate_v1(f: callable, a: float, b: float, n: int) -> callable:\n",
        "    \"\"\"\n",
        "    Returns\n",
        "    -------\n",
        "    The interpolating function.\n",
        "    \"\"\"\n",
        "    Cubic_Bezier = lambda p1, p2, p3, p4: cubic_bezier(p1, p2, p3, p4)  # Inner call for productivity\n",
        "    if n == 1:  # In case we can only use 1 point -> return a straight line\n",
        "        f = lambda x: f((a + b) / 2)\n",
        "        return f\n",
        "    # Next we will create 2 arrays: X values and f(X) values\n",
        "    x_values = np.linspace(a, b, n)  # Split the range to n - points\n",
        "    y_values = [f(x) for x in x_values]  # Get the f(x) values\n",
        "    points = np.array(list(zip(x_values, y_values)))  # Create n points in the form of (x,y)\n",
        "    splines = n - 1  # Number of splines in the interpolation\n",
        "    '''\n",
        "    # Build the coefficient matrix (W) to create the linear system\n",
        "    W = np.identity(splines)  # Create Identity matrix\n",
        "    np.fill_diagonal(W, 4)  # Replace main diagonal with 4's\n",
        "    np.fill_diagonal(W[1:], 1)\n",
        "    np.fill_diagonal(W[:, 1:], 1)\n",
        "    W[0, 0] = 2\n",
        "    W[splines - 1, splines - 1] = 7\n",
        "    W[splines - 1, splines - 2] = 2\n",
        "    # Extract the 3 relevant diagonals from the matrix:\n",
        "    a = np.diag(W, k=-1)\n",
        "    b = np.diag(W, k=0)\n",
        "    c = np.diag(W, k=1)\n",
        "    '''\n",
        "    # Build the coefficient matrix (W) to create the linear system\n",
        "    c = [1.0] * (splines - 1)\n",
        "    b = [4.0] * splines\n",
        "    b[0] = 2.0\n",
        "    b[len(b)-1] = 7.0\n",
        "    a = [1] * (splines - 1)\n",
        "    a[len(a)-1] = 2.0\n",
        "\n",
        "\n",
        "    # build points vector (K)\n",
        "    K = [2 * (2 * points[i] + points[i + 1]) for i in range(splines)]  # 4Ki + 2K_i+1\n",
        "    K[0] = points[0] + 2 * points[1]  # K0 + 2*K1\n",
        "    K[splines - 1] = 8 * points[splines - 1] + points[splines]  # 8*K_n-1 + K_n\n",
        "    # for every point in points array get the x,y values separately\n",
        "    dx = [x[0] for x in K]\n",
        "    dy = [y[1] for y in K]\n",
        "\n",
        "    # Multiply the matrix getting the X points and Y points\n",
        "    # Getting the Values of the first anchor - A\n",
        "    X = MulThomas(a, b, c, dx)\n",
        "    Y = MulThomas(a, b, c, dy)\n",
        "\n",
        "    # Update the A and B values Using the known mathematical equations\n",
        "    # taking care of the A and B that way takes care of smoothing the curves\n",
        "    A = np.array(list(zip(X, Y)))\n",
        "    B = [0] * splines\n",
        "    for i in range(splines - 1):\n",
        "        B[i] = 2 * points[i + 1] - A[i + 1]\n",
        "    B[splines - 1] = (A[splines - 1] + points[splines]) / 2\n",
        "\n",
        "    # Create dictionaries for functions and x_values\n",
        "    B3 = {}\n",
        "    x_values = {}\n",
        "    for i in range(splines):\n",
        "        Ci = (points[i], A[i], B[i], points[i + 1])  # The 4 points for every spline\n",
        "        # The interpolation for section [xi,x_i+1]\n",
        "        # Returns a function f(t) for this spline, storing it in B3\n",
        "        B3[(Ci[0][0], Ci[3][0])] = Cubic_Bezier(Ci[0], Ci[1], Ci[2], Ci[3])\n",
        "        # x_values holds the x values of the 4 points constructing the spline i\n",
        "        x_values[(Ci[0][0], Ci[3][0])] = (Ci[0][0], Ci[1][0], Ci[2][0], Ci[3][0])\n",
        "\n",
        "    # Create a function that returns an interpolation function -> for x returns f(x)\n",
        "    def interpolatz_PLATZ(x):\n",
        "        for i in B3:  # Find the spline (function) that x answers to\n",
        "            if i[0] < x < i[1]:\n",
        "                X = x_values[i]\n",
        "                t = (x - X[0]) / (X[3] - X[0])  # Get the relevant t from the x value\n",
        "                y = B3[i](t)[1]  # Returned object is a point thus extract y-value\n",
        "                return y\n",
        "\n",
        "    # This line will hold the interpolation function as a returned parameter f(x_given) = y_value\n",
        "    return interpolatz_PLATZ\n"
      ],
      "metadata": {
        "id": "owOHLIkluU9f"
      },
      "execution_count": 352,
      "outputs": []
    },
    {
      "cell_type": "code",
      "source": [
        "minimum = -200.0\n",
        "maximum = 200.0\n",
        "Original_func = lambda x: x**3 - x**4\n",
        "interpolation_func = interpolate_v1(Original_func, minimum -1, maximum + 1, 400)\n"
      ],
      "metadata": {
        "id": "ksbSYZMnu8Yl"
      },
      "execution_count": 353,
      "outputs": []
    },
    {
      "cell_type": "code",
      "source": [
        "def Check_interpolation(Original_func,interpolation_func,minimum,maximum, number_of_samples = 200):\n",
        "\n",
        "  # Define the range of x values over which you want to plot the functions\n",
        "  x_values = [random.uniform(minimum, maximum) for _ in range(number_of_samples)] # random\n",
        "  x_values.remove(0) if 0 in x_values else None\n",
        "  x_values = sorted(x_values)\n",
        "  # Evaluate the first function over the range of x values\n",
        "  y1 = [Original_func(x) for x in x_values]\n",
        "\n",
        "  # Evaluate the second function over the range of x values\n",
        "  y2 = [interpolation_func(x) for x in x_values]\n",
        "\n",
        "  #Calaulate the error:\n",
        "  def RMSE(y1,y2):\n",
        "    errors = []\n",
        "    for i in range(len(y1)):\n",
        "      errors.append((y1[i] - y2[i])**2)\n",
        "    return math.sqrt(sum(errors) / len(errors))\n",
        "  print(RMSE(y1,y2))\n",
        "\n",
        "  # Create a figure and axes object using Matplotlib\n",
        "  fig, ax = plt.subplots()\n",
        "\n",
        "  # Plot the first function using the plot function and specify the x and y values as well as a label for the function\n",
        "  ax.plot(x_values, y1, label='Original')\n",
        "\n",
        "  # Plot the second function using the plot function and specify the x and y values as well as a label for the function\n",
        "  ax.plot(x_values, y2, label='Interpolated')\n",
        "\n",
        "  # Add a legend to the plot to show which line corresponds to which function\n",
        "  ax.legend()\n",
        "\n",
        "  # Show the plot\n",
        "  plt.show()"
      ],
      "metadata": {
        "id": "AiViVRLwxMM0"
      },
      "execution_count": 354,
      "outputs": []
    },
    {
      "cell_type": "code",
      "source": [
        "Check_interpolation(Original_func,interpolation_func,minimum,maximum, number_of_samples = 200)"
      ],
      "metadata": {
        "id": "4FVWu5zW0zWM",
        "colab": {
          "base_uri": "https://localhost:8080/",
          "height": 293
        },
        "outputId": "57dd6bac-ca3c-4d2b-9aa9-9f3c801a72d2"
      },
      "execution_count": 355,
      "outputs": [
        {
          "output_type": "stream",
          "name": "stdout",
          "text": [
            "86.58654332977434\n"
          ]
        },
        {
          "output_type": "display_data",
          "data": {
            "text/plain": [
              "<Figure size 432x288 with 1 Axes>"
            ],
            "image/png": "[encoded data removed]"
          },
          "metadata": {
            "needs_background": "light"
          }
        }
      ]
    },
    {
      "cell_type": "markdown",
      "source": [
        "Interpolation using Lagrange:"
      ],
      "metadata": {
        "id": "lauAdLKaWWHJ"
      }
    },
    {
      "cell_type": "code",
      "source": [
        "'''\n",
        "Lagrange interpolation is a method for finding a polynomial that fits a set of points. Given a set of n points \n",
        "(x_1, y_1), (x_2, y_2), ..., (x_n, y_n), the Lagrange interpolation polynomial is defined as:\n",
        "L(x) = ∑ y_i * l_i(x)\n",
        "where l_i(x) is the ith Lagrange basis polynomial, defined as:\n",
        "l_i(x) = ∏ (x - x_j) / (x_i - x_j)  for all j ≠ i\n",
        "To implement Lagrange interpolation with 4 points,\n",
        "you can define the 4 Lagrange basis polynomials and use them to calculate the interpolation polynomial as follows:\n",
        "'''"
      ],
      "metadata": {
        "id": "1zmEk6JXWdOM",
        "colab": {
          "base_uri": "https://localhost:8080/",
          "height": 87
        },
        "outputId": "2e4ce6b8-16a7-4ccb-bcb6-c2e00ead341e"
      },
      "execution_count": 356,
      "outputs": [
        {
          "output_type": "execute_result",
          "data": {
            "text/plain": [
              "'\\nLagrange interpolation is a method for finding a polynomial that fits a set of points. Given a set of n points \\n(x_1, y_1), (x_2, y_2), ..., (x_n, y_n), the Lagrange interpolation polynomial is defined as:\\nL(x) = ∑ y_i * l_i(x)\\nwhere l_i(x) is the ith Lagrange basis polynomial, defined as:\\nl_i(x) = ∏ (x - x_j) / (x_i - x_j)  for all j ≠ i\\nTo implement Lagrange interpolation with 4 points,\\nyou can define the 4 Lagrange basis polynomials and use them to calculate the interpolation polynomial as follows:\\n'"
            ],
            "application/vnd.google.colaboratory.intrinsic+json": {
              "type": "string"
            }
          },
          "metadata": {},
          "execution_count": 356
        }
      ]
    },
    {
      "cell_type": "markdown",
      "source": [
        "נבדוק למה נראה שהערכי האיקס המתקבלים אינם נכונים"
      ],
      "metadata": {
        "id": "JfHE1w9zh9IR"
      }
    },
    {
      "cell_type": "code",
      "source": [
        "def return_points_for_function(f: callable, a: float, b: float, n: int):\n",
        "    # Next we will create 2 arrays: X values and f(X) values\n",
        "    x_values = np.linspace(a, b, n)  # Split the range to n - points -> since every section is independent there is not much point for chebieshev\n",
        "    y_values = [f(x) for x in x_values]  # Get the f(x) values\n",
        "    points = [[x_values[i],y_values[i]] for i in range(n)]\n",
        "    #points = np.array(list(zip(x_values, y_values)))  # Create n points in the form of (x,y)\n",
        "\n",
        "    #split into group of 4 points (re-use 2 points from last group)\n",
        "    def split_list(input_list, chunk_size):\n",
        "        output = []\n",
        "        end = 4\n",
        "        diff = int(chunk_size / 2)\n",
        "        while end < len(input_list):\n",
        "            # Get the start and end indices for the current sublist\n",
        "            start = end - chunk_size\n",
        "            # Use slicing to get the sublist\n",
        "            output.append(input_list[start:end])\n",
        "            end += diff\n",
        "        return output\n",
        "\n",
        "    # use to create groups of 4 points\n",
        "    Points = split_list(points, 4)\n",
        "    if Points[-1][-1][0] != b:\n",
        "      Points.append(points[-4:]) # Last group of points\n",
        "    # Each function will be saved in a dictionary:\n",
        "    functions_dict = {}\n",
        "    # The 2 edge functions:\n",
        "    functions_dict[points[1][0]] = Points[0]\n",
        "    for Pi in Points:\n",
        "        # The interpolation for section [xi,x_i + 4]\n",
        "        functions_dict[Pi[3][0]] = Pi\n",
        "    functions_dict[points[-1][0]] = Points[-1]\n",
        "    # Create a function that returns an interpolation function -> for x returns f(x)\n",
        "\n",
        "    def interpolatz_PLATZ(x):\n",
        "        for key in functions_dict.keys():  # Find the spline (function) that x answers to\n",
        "            if x <= key:\n",
        "                y = functions_dict[key]  # Returned object is a point thus extract y-value\n",
        "                return y\n",
        "    return interpolatz_PLATZ\n"
      ],
      "metadata": {
        "id": "X1yFCfqxf4b4"
      },
      "execution_count": 357,
      "outputs": []
    },
    {
      "cell_type": "code",
      "source": [
        "x = 115\n",
        "get_points_for_interpolation = return_points_for_function(Original_func, minimum, maximum, 400)\n",
        "#get_points_for_interpolation(x)"
      ],
      "metadata": {
        "id": "oPSCxy-KhQFk"
      },
      "execution_count": 358,
      "outputs": []
    },
    {
      "cell_type": "code",
      "source": [
        "def lagrange_interpolation(points): #will 5th degree be better?\n",
        "  #Rreturns a function f(x)\n",
        "  def P(x):\n",
        "    total = 0\n",
        "    n = len(points)\n",
        "    for i in range(n):\n",
        "      xi, yi = points[i]\n",
        "      def g(i, n):\n",
        "        total = 1\n",
        "        for j in range(n):\n",
        "          if i == j:\n",
        "            continue\n",
        "          xj, yj = points[j]\n",
        "          total *= (x - xj) / (xi - xj)\n",
        "        return total\n",
        "      total += yi * g(i, n)\n",
        "    return total\n",
        "  return P\n"
      ],
      "metadata": {
        "id": "H1TPcKs3r_6K"
      },
      "execution_count": 359,
      "outputs": []
    },
    {
      "cell_type": "code",
      "source": [
        "f = lagrange_interpolation([(1,2), (2,3), (3,4), (4,5), (5,6)])\n",
        "f(3.5)"
      ],
      "metadata": {
        "colab": {
          "base_uri": "https://localhost:8080/"
        },
        "id": "OcQV8erLudGx",
        "outputId": "82b8372d-0ea9-4533-d12a-070ad7118ef1"
      },
      "execution_count": 360,
      "outputs": [
        {
          "output_type": "execute_result",
          "data": {
            "text/plain": [
              "4.5"
            ]
          },
          "metadata": {},
          "execution_count": 360
        }
      ]
    },
    {
      "cell_type": "code",
      "source": [
        "def interpolate_v3(f: callable, a: float, b: float, n: int) -> callable:\n",
        "    \"\"\"\n",
        "    Returns\n",
        "    -------\n",
        "    The interpolating function.\n",
        "    \"\"\"\n",
        "    if n == 1:  # In case we can only use 1 point -> return a straight line\n",
        "        f = lambda x: f((a + b) / 2)\n",
        "        return f\n",
        "    # Next we will create 2 arrays: X values and f(X) values\n",
        "    x_values = np.linspace(a, b, n)  # Split the range to n - points -> since every section is independent there is not much point for chebieshev\n",
        "    y_values = [f(x) for x in x_values]  # Get the f(x) values\n",
        "    points = [[x_values[i],y_values[i]] for i in range(n)]\n",
        "    #points = np.array(list(zip(x_values, y_values)))  # Create n points in the form of (x,y)\n",
        "\n",
        "    #split into group of n points (re-use x2...xn points from every group)\n",
        "    def split_list(input_list, chunk_size,end = b):\n",
        "        output = []\n",
        "        start = 0\n",
        "        diff = 2\n",
        "        index = start\n",
        "        while start + chunk_size <= len(input_list):\n",
        "          output.append(input_list[start:start + chunk_size])\n",
        "          start += diff\n",
        "        if output[-1][-1][0] < end:\n",
        "          output.append(input_list[-chunk_size:]) # Last group of points\n",
        "        return output\n",
        "\n",
        "    # use to create groups of 7 points\n",
        "    Points = split_list(points, 7)\n",
        "\n",
        "    # Each function will be saved in a dictionary:\n",
        "    # The 2 edge functions:\n",
        "    functions_dict = {}\n",
        "    for Pi in Points:\n",
        "        # The interpolation for section [xi,x_i + 4]\n",
        "        functions_dict[Pi[4][0]] = lagrange_interpolation(Pi)\n",
        "    functions_dict[points[-1][0]] = lagrange_interpolation(Points[-1])\n",
        "    # Create a function that returns an interpolation function -> for x returns f(x)\n",
        "\n",
        "    def interpolatz_PLATZ(x):\n",
        "        for key in functions_dict.keys():  # Find the spline (function) that x answers to\n",
        "            if x <= key:\n",
        "                y = functions_dict[key](x)  # Returned object is a point thus extract y-value\n",
        "                return y\n",
        "    # This line will hold the interpolation function as a returned parameter f(x_given) = y_value\n",
        "    return interpolatz_PLATZ"
      ],
      "metadata": {
        "id": "V2bQbOWRbah7"
      },
      "execution_count": 361,
      "outputs": []
    },
    {
      "cell_type": "code",
      "source": [
        "Original_func = lambda x: x**3 - x**4\n",
        "interpolation_func = interpolate_v3(Original_func, minimum, maximum, 400)"
      ],
      "metadata": {
        "id": "m0VjTy_agPDZ"
      },
      "execution_count": 362,
      "outputs": []
    },
    {
      "cell_type": "code",
      "source": [
        "Check_interpolation(Original_func,interpolation_func,minimum,maximum, number_of_samples = 200)"
      ],
      "metadata": {
        "colab": {
          "base_uri": "https://localhost:8080/",
          "height": 293
        },
        "id": "8LTAqei2hAN8",
        "outputId": "1f496817-997a-49ad-c87f-10c3a6b5880f"
      },
      "execution_count": 363,
      "outputs": [
        {
          "output_type": "stream",
          "name": "stdout",
          "text": [
            "9.646502914784334e-08\n"
          ]
        },
        {
          "output_type": "display_data",
          "data": {
            "text/plain": [
              "<Figure size 432x288 with 1 Axes>"
            ],
            "image/png": "[encoded data removed]"
          },
          "metadata": {
            "needs_background": "light"
          }
        }
      ]
    },
    {
      "cell_type": "markdown",
      "source": [
        "אמאלה ואבאלה אני מפליץ פה מהתרגשות איזה פאקינג כיף\n",
        "רק לוודא האם רשימת הנקודות היא רציפה"
      ],
      "metadata": {
        "id": "NYlUO8mwrR0F"
      }
    },
    {
      "cell_type": "markdown",
      "source": [
        "להכין בדיקת השוואה בין גרסה 1 לגרסה 3"
      ],
      "metadata": {
        "id": "9tV4-O0YrzvZ"
      }
    },
    {
      "cell_type": "code",
      "source": [
        "# Lets create a Program that will show us the gain from the number of sections I create on different functions\n",
        "#Test functions from assignment:\n",
        "f0 = lambda x: x - 1\n",
        "f1 = lambda x: 5\n",
        "f2 = lambda x: x**2 -3*x + 5\n",
        "f3 = lambda x: math.sin(x**2)\n",
        "f4 = lambda x: math.e**(-2*x**2)\n",
        "f5 = lambda x: math.atan(x)\n",
        "f6 = lambda x: 1/math.log(x+201) \n",
        "f7 = lambda x: math.e**math.e**x #error\n",
        "f8 = lambda x: math.log(math.log(x+201)) #error\n",
        "f9 = lambda x: math.sin(math.log(x+201)) #error \n",
        "f21 = lambda x: (math.sin(x))/x \n",
        "f22 = lambda x: (2**(1/(x**2)))*math.sin(1/x) #error\n",
        "\n",
        "#Other functions:\n",
        "f10 = lambda x: 4* math.sin(10*x) - math.cos(x/7)*x + x + 2\n",
        "f11 = lambda x: x**3\n",
        "f12 = lambda x: math.sin(x)\n",
        "f13 = lambda x: 5*(x**3) - 5*(x**2) -5*x -5\n",
        "f14 = lambda x: 5*(x**2) - 1\n",
        "f15 = lambda x: x - 1\n",
        "f16 = lambda x: -2*(x**2) + 2\n",
        "f17 = lambda x: 2*(x**2) - 2\n",
        "f18 = lambda x: math.cos(x/309)\n",
        "f19 = lambda x: x**5 - 34*x**4 +276*x**2 -987\n",
        "f20 = lambda x: math.sin(x**5) + x**2 - 987\n",
        "f23 = lambda x: x**3 - x**4\n",
        "f24 = lambda x: x**6 - 50*x**2 +276*x**7 -98788747\n",
        "f25 = lambda x: x**10 - 2*x**9 +5*x**7 -98788747*x + x**5\n",
        "f26 = lambda x: 7*x**9 - 2*x**5 +5*x**10 -1298788747*x + x**6\n",
        "functions = [f0,f1,f2,f3,f4,f5,f6,f7,f8,f9,f10,f11,f12,f13,f14,f15,f16,f17,f18,f19,f20,f21,f22,f23]"
      ],
      "metadata": {
        "id": "jHLhaCvQvbGF"
      },
      "execution_count": 364,
      "outputs": []
    },
    {
      "cell_type": "code",
      "source": [
        "def Check_interpolation_no_graph(Original_func,interpolation_func,minimum,maximum, number_of_samples = 200):\n",
        "\n",
        "  # Define the range of x values over which you want to plot the functions\n",
        "  x_values = [random.uniform(minimum, maximum) for _ in range(number_of_samples)] # random\n",
        "  x_values.remove(0) if 0 in x_values else None\n",
        "  x_values = sorted(x_values)\n",
        "  # Evaluate the first function over the range of x values\n",
        "  y1 = [Original_func(x) for x in x_values]\n",
        "\n",
        "  # Evaluate the second function over the range of x values\n",
        "  y2 = [interpolation_func(x) for x in x_values]\n",
        "\n",
        "  #Calaulate the error:\n",
        "  def RMSE(y1,y2):\n",
        "    errors = []\n",
        "    for i in range(len(y1)):\n",
        "      errors.append((y1[i] - y2[i])**2)\n",
        "    return math.sqrt(sum(errors) / len(errors))\n",
        "  return RMSE(y1,y2)"
      ],
      "metadata": {
        "id": "VJniApAqwG-1"
      },
      "execution_count": 365,
      "outputs": []
    },
    {
      "cell_type": "markdown",
      "source": [
        "בדיקה עכשיו של פונקציה מול פונקציה באופן ידני"
      ],
      "metadata": {
        "id": "pJ--0s0l25_F"
      }
    },
    {
      "cell_type": "code",
      "source": [
        "func = functions[6]\n",
        "interpolation_func_v1 = interpolate_v1(func, -20, 20, 400)\n",
        "interpolation_func_v3 = interpolate_v3(func, -20, 20, 400)\n",
        "g1 = Check_interpolation_no_graph(func,interpolation_func_v1,-10,10, number_of_samples = 200)\n",
        "g3 = Check_interpolation_no_graph(func,interpolation_func_v3,-10,10, number_of_samples = 200)\n",
        "print(f'{\"g1\" if g1 < g3 else \"g3\"} is better for this func with {[g1,g3]}')\n"
      ],
      "metadata": {
        "colab": {
          "base_uri": "https://localhost:8080/"
        },
        "id": "GddZOWXk25nS",
        "outputId": "fd110f57-4530-40d0-b77d-e6790fcace26"
      },
      "execution_count": 366,
      "outputs": [
        {
          "output_type": "stream",
          "name": "stdout",
          "text": [
            "g3 is better for this func with [6.283435673255384e-17, 3.516314866869299e-17]\n"
          ]
        }
      ]
    },
    {
      "cell_type": "code",
      "source": [
        "functions = [f0,f1,f2,f3,f4,f5,f6,f10,f11,f12,f13,f14,f15,f16,f17,f18,f19,f20,f21,f23,f24,f25,f26]\n",
        "index = 0\n",
        "v1 = []\n",
        "v3 = []\n",
        "leaderboard = [0,0]\n",
        "for func in functions:\n",
        "  interpolation_func_v1 = interpolate_v1(func, -20, 20, 400)\n",
        "  interpolation_func_v3 = interpolate_v3(func, -20, 20, 400)\n",
        "  #print(\"hi\")\n",
        "  g1 = Check_interpolation_no_graph(func,interpolation_func_v1,-20,20, number_of_samples = 200)\n",
        "  g3 = Check_interpolation_no_graph(func,interpolation_func_v3,-20,20, number_of_samples = 200)\n",
        "  index += 1\n",
        "  v1.append(g1)\n",
        "  v3.append(g3)\n",
        "  if g1 < g3:\n",
        "    leaderboard[0] += 1\n",
        "  else:\n",
        "    leaderboard[1] += 1\n",
        "  print(f'{\"g1\" if g1 < g3 else \"g3\"} is better for this func with {[g1,g3]}')\n",
        "print(leaderboard)"
      ],
      "metadata": {
        "colab": {
          "base_uri": "https://localhost:8080/"
        },
        "id": "GwdEzt54ctOK",
        "outputId": "6a406a11-4450-41cd-ec73-d12e21ad3c3f"
      },
      "execution_count": 367,
      "outputs": [
        {
          "output_type": "stream",
          "name": "stdout",
          "text": [
            "g3 is better for this func with [2.58768016533827e-15, 2.022282803351199e-15]\n",
            "g3 is better for this func with [1.012679207245471e-15, 9.079425345009217e-16]\n",
            "g3 is better for this func with [1.4814951975613467e-06, 3.8880346367867084e-14]\n",
            "g3 is better for this func with [0.4124962553788487, 0.37749555552025493]\n",
            "g3 is better for this func with [7.927960512629125e-07, 1.5311759899183895e-07]\n",
            "g3 is better for this func with [6.18874020808439e-08, 1.1715826620190742e-08]\n",
            "g3 is better for this func with [4.095973014617851e-11, 3.865904340312231e-17]\n",
            "g3 is better for this func with [0.011131579542746562, 0.004146102398782199]\n",
            "g3 is better for this func with [0.003006574126008401, 4.441993450558501e-13]\n",
            "g3 is better for this func with [3.167612346632025e-05, 1.2927599322220974e-10]\n",
            "g3 is better for this func with [0.0018057926779877203, 3.4975888002672375e-12]\n",
            "g3 is better for this func with [0.0002721073362685349, 2.025749026652686e-13]\n",
            "g3 is better for this func with [2.792751619271632e-15, 2.0646106149081345e-15]\n",
            "g3 is better for this func with [0.00016566264241277788, 6.553225159612554e-14]\n",
            "g3 is better for this func with [0.00013815298294054003, 6.451534232355667e-14]\n",
            "g3 is better for this func with [5.80150870307038e-11, 1.7970529571352417e-16]\n",
            "g3 is better for this func with [1.7143188624537768, 5.298609865473836e-10]\n",
            "g3 is better for this func with [0.9092991207828868, 0.9012263592867493]\n",
            "g3 is better for this func with [1.310513992839031e-06, 1.1381988892395675e-11]\n",
            "g3 is better for this func with [0.10427762944004004, 1.1026859862539237e-11]\n",
            "g3 is better for this func with [942826.2632272264, 0.00023916719976347476]\n",
            "g3 is better for this func with [51678595.1593962, 0.31140761657346655]\n",
            "g3 is better for this func with [145955104.70276862, 1.4866475296909194]\n",
            "[0, 23]\n"
          ]
        }
      ]
    },
    {
      "cell_type": "markdown",
      "source": [
        "נבדוק את פונקציית חלוקת הנקודות על מנת לוודא שמקבלים קטע רציף"
      ],
      "metadata": {
        "id": "Wx0KTre8Uelq"
      }
    },
    {
      "cell_type": "code",
      "source": [
        "# Next we will create 2 arrays: X values and f(X) values\n",
        "n = 37\n",
        "x_values = np.linspace(-20, 20, n)  # Split the range to n - points -> since every section is independent there is not much point for chebieshev\n",
        "y_values = [func(x) for x in x_values]  # Get the f(x) values\n",
        "points = [[x_values[i],y_values[i]] for i in range(n)]\n",
        "b = 20\n",
        "#split into group of n points (re-use x2...xn points from every group)\n",
        "def split_list(input_list, chunk_size,end = b):\n",
        "    output = []\n",
        "    start = 0\n",
        "    diff = 2\n",
        "    index = start\n",
        "    while start + chunk_size <= len(input_list):\n",
        "      output.append(input_list[start:start + chunk_size])\n",
        "      start += diff\n",
        "    if output[-1][-1][0] < end:\n",
        "      output.append(input_list[-chunk_size:]) # Last group of points\n",
        "    return output\n",
        "\n",
        "# use to create groups of 7 points\n",
        "Points = split_list(points, 7)"
      ],
      "metadata": {
        "id": "86DUBbutUmIu"
      },
      "execution_count": 368,
      "outputs": []
    },
    {
      "cell_type": "code",
      "source": [
        "l = True\n",
        "for i in Points[:len(Points)-2]:\n",
        "  if len(i) != 7:\n",
        "    l = False\n",
        "l"
      ],
      "metadata": {
        "colab": {
          "base_uri": "https://localhost:8080/"
        },
        "id": "vXVkzyXejh-H",
        "outputId": "f1cfbdd9-115d-46d7-d669-8db665888545"
      },
      "execution_count": 369,
      "outputs": [
        {
          "output_type": "execute_result",
          "data": {
            "text/plain": [
              "True"
            ]
          },
          "metadata": {},
          "execution_count": 369
        }
      ]
    },
    {
      "cell_type": "markdown",
      "source": [
        "בדיקה על פונקציות רנדומאליות כמו רמי ממעלה 30"
      ],
      "metadata": {
        "id": "73EQw1FO_I2S"
      }
    },
    {
      "cell_type": "code",
      "source": [
        "a = np.random.randn(30)\n",
        "f = np.poly1d(a)\n",
        "ff = interpolate_v1(f, -10, 10, 100)\n",
        "fff = interpolate_v3(f, -10, 10, 100)\n",
        "g1 = Check_interpolation_no_graph(f,ff,-10,10, number_of_samples = 100)\n",
        "g3 = Check_interpolation_no_graph(f,fff,-10,10, number_of_samples = 100)\n",
        "print(f'{\"g1\" if g1 < g3 else \"g3\"} is better for this func with {[g1,g3]}')"
      ],
      "metadata": {
        "colab": {
          "base_uri": "https://localhost:8080/"
        },
        "id": "JPb5yQqA9qyY",
        "outputId": "b6473fb3-ed79-4cdc-a3d0-a6054ddafa8a"
      },
      "execution_count": 399,
      "outputs": [
        {
          "output_type": "stream",
          "name": "stdout",
          "text": [
            "g3 is better for this func with [9.897442325946637e+24, 1.0824726140563883e+22]\n"
          ]
        }
      ]
    }
  ]
}