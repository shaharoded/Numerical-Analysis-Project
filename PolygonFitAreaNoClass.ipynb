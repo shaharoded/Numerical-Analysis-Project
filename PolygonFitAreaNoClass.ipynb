{
  "nbformat": 4,
  "nbformat_minor": 0,
  "metadata": {
    "colab": {
      "provenance": []
    },
    "kernelspec": {
      "name": "python3",
      "display_name": "Python 3"
    },
    "language_info": {
      "name": "python"
    }
  },
  "cells": [
    {
      "cell_type": "code",
      "source": [
        "import matplotlib.pyplot as plt\n",
        "import numpy as np\n",
        "import math"
      ],
      "metadata": {
        "id": "yK2NkRYHSD08"
      },
      "execution_count": 583,
      "outputs": []
    },
    {
      "cell_type": "markdown",
      "source": [
        "***Part 1: Shape Fit***"
      ],
      "metadata": {
        "id": "VY7LfUfojNKn"
      }
    },
    {
      "cell_type": "markdown",
      "source": [
        "Smoothing The *Curve*"
      ],
      "metadata": {
        "id": "rUPdXdX8ivGM"
      }
    },
    {
      "cell_type": "code",
      "source": [
        "def BoxcarAVG(Points, n):\n",
        "    '''\n",
        "    I know the data will be noisy, so I'll smooth down the curve\n",
        "    '''\n",
        "    # Let n be an odd number, 3 or 5 for example\n",
        "    side = n // 2\n",
        "    for i in range(side, len(Points) - side):\n",
        "        Points[i][1] = sum([p[1] for p in Points[i - side:i + side + 1]]) / n\n",
        "    return Points"
      ],
      "metadata": {
        "id": "lHwlXmh4i9qN"
      },
      "execution_count": 584,
      "outputs": []
    },
    {
      "cell_type": "markdown",
      "source": [
        "***Part 2: Shape Area***"
      ],
      "metadata": {
        "id": "PGOy-dgyjm2a"
      }
    },
    {
      "cell_type": "code",
      "execution_count": 585,
      "metadata": {
        "id": "WRfZyoT8RQ8O"
      },
      "outputs": [],
      "source": [
        "non_intersecting_polygon = [(1.35,2.1),(2.69,4),(5.1,3),(7.9,5.8),(11,0.6),(7,-0.5),(8.7,-1.9),(5.32,-3.8),(-1,-2.5),(2.5,-1.5)]\n",
        "intersecting_polygon = [[0,0],[10,0],[5,5],[0,10],[10,10],[9,9],[6,6],[2,2]]\n",
        "penis = [(4,1),(3,1),(2,2),(2,3),(3,4),(4,3),(4,9),(3,9),(3,10),(4,11),(6,11),(7,10),(7,9),(6,9),(6,3),(7,4),(8,3),(8,2),(7,1),(6,1),(5,2)]"
      ]
    },
    {
      "cell_type": "markdown",
      "source": [
        "Sorting the points of a polygon in a clockwise order before executing the area calculation algorithms has several benefits:\n",
        "\n",
        "Consistency: By sorting the points in a consistent order, you can ensure that the area calculation algorithm will always return the same result, regardless of the order in which the points were originally given.\n",
        "\n",
        "Simplicity: By sorting the points in a clockwise order, you can simplify the implementation of the area calculation algorithm. For example, the shoelace formula, which is a general formula for calculating the area of a polygon, is more straightforward to implement when the points are sorted in a clockwise order.\n",
        "\n",
        "Self-intersecting polygons: For self-intersecting polygons, it will not work as expected because the area will be calculated with the intersections and it will give an area that is not correct. For self-intersecting polygons, it's recommended to detect and remove the self-intersections before applying any of the area calculation algorithms.\n",
        "\n",
        "In summary, sorting the points before executing the area calculation algorithms will ensure the correct and consistent results for simple polygons and it's a good practice to apply, but for self-intersecting polygons it's required to detect and remove the self-intersections."
      ],
      "metadata": {
        "id": "QfWKuKibHWlG"
      }
    },
    {
      "cell_type": "code",
      "source": [
        "def SimplePolygonArea(points):\n",
        "  def clockwise_sort(points):\n",
        "    # Find the point with the smallest y-coordinate\n",
        "    reference_point = min(points, key=lambda point: (point[1], point[0]))\n",
        "\n",
        "    # Sort the other points by polar angle with respect to the reference point\n",
        "    sorted_points = sorted(points, key=lambda point: math.atan2(point[1] - reference_point[1], point[0] - reference_point[0]))\n",
        "\n",
        "    return sorted_points\n",
        "\n",
        "  def polygon_area_shoelace(points):\n",
        "    # Can only handle points stored in arrays, not tuples      \n",
        "    points.append(points[0])\n",
        "    x = [point[0] for point in points]\n",
        "    y = [point[1] for point in points]\n",
        "    return 0.5*np.abs(np.dot(x,np.roll(y,1))-np.dot(y,np.roll(x,1)))\n",
        "  \n",
        "  \n",
        "  points = clockwise_sort(points)\n",
        "  polygon_area = polygon_area_shoelace(points)\n",
        "  return polygon_area\n",
        "\n"
      ],
      "metadata": {
        "id": "G0FGgrj8XTUj"
      },
      "execution_count": 586,
      "outputs": []
    },
    {
      "cell_type": "markdown",
      "source": [
        "In this example, points list defines the vertices of the polygon and first we find the bounding box of the points, then we create a grid of zeroes that has the same size as the bounding box. Then we iterate through all the cells of the grid and check if each cell is inside the polygon or not using the is_point_in_polygon function that you can implement yourself. It can be done using the ray casting algorithm, the winding number algorithm or by using the cross product. Finally, we pass the grid and threshold to the marching_squares function to extract the contours.\n",
        "\n",
        "Please note that in the above example, the is_point_in_polygon function is not implemented and you will need to implement it yourself to check if a point is inside the polygon, and it may not be efficient for large polygons."
      ],
      "metadata": {
        "id": "FRcGU16EpS7h"
      }
    },
    {
      "cell_type": "code",
      "source": [
        "def ComplexPolygonArea(points,gridsize_factor=1,threshold=0.5):\n",
        "  # Find the bounding box of the points\n",
        "  minx = min(x for x, y in points)\n",
        "  maxx = max(x for x, y in points)\n",
        "  miny = min(y for x, y in points)\n",
        "  maxy = max(y for x, y in points)\n",
        "\n",
        "  grid_size = (int(maxy - miny)*gridsize_factor, int(maxx - minx)*gridsize_factor)\n",
        "  def GetGrid(points,grid_size):\n",
        "    def ray_intersects_segment(x, y, p1, p2):\n",
        "        x1, y1 = p1\n",
        "        x2, y2 = p2\n",
        "        \n",
        "        # Check if the point is on the right of the line segment\n",
        "        if x < min(x1, x2):\n",
        "            return False\n",
        "        \n",
        "        # Check if the point is above or below the line segment\n",
        "        if y > max(y1, y2) or y < min(y1, y2):\n",
        "            return False\n",
        "        \n",
        "        # Check if the point is on the same side of the line as the segment's endpoints\n",
        "        if (x1 - x2)*(y - y1) - (y1 - y2)*(x - x1) > 0:\n",
        "            return False\n",
        "        \n",
        "        # If the point passes all checks, it must be on the correct side of the line\n",
        "        return True\n",
        "    grid = np.zeros(grid_size)\n",
        "    for i in range(grid.shape[0]):\n",
        "        for j in range(grid.shape[1]):\n",
        "            # Cast a ray from the point (minx + j, miny + i) in the positive x direction\n",
        "            intersections = 0\n",
        "            for p1, p2 in zip(points, points[1:] + [points[0]]):\n",
        "                if ray_intersects_segment(minx + j, miny + i, p1, p2):\n",
        "                    intersections += 1\n",
        "            if intersections % 2 == 1:\n",
        "                grid[i][j] = 1\n",
        "    return grid\n",
        "  \n",
        "  grid = GetGrid(points,grid_size)\n",
        "  def marching_squares(grid, threshold):\n",
        "      contours = []\n",
        "      grid = np.array(grid)\n",
        "      for i in range(grid.shape[0] - 1):\n",
        "          for j in range(grid.shape[1] - 1):\n",
        "              square = [[i, j], [i + 1, j], [i + 1, j + 1], [i, j + 1]]\n",
        "              values = [grid[x][y] for x, y in square]\n",
        "              edges = []\n",
        "              if values[0] < threshold:\n",
        "                  edges.append((square[0], square[3]))\n",
        "              if values[1] < threshold:\n",
        "                  edges.append((square[0], square[1]))\n",
        "              if values[2] < threshold:\n",
        "                  edges.append((square[1], square[2]))\n",
        "              if values[3] < threshold:\n",
        "                  edges.append((square[2], square[3]))\n",
        "              if len(edges) > 0:\n",
        "                  contours.append(edges)\n",
        "      return contours\n",
        "  contours = marching_squares(grid, threshold)\n",
        "  cell_area = (maxx - minx)/grid_size[1] * (maxy - miny)/grid_size[0]\n",
        "  polygon_area = np.sum(grid) * cell_area\n",
        "  return polygon_area\n"
      ],
      "metadata": {
        "id": "r1r572KfFEFK"
      },
      "execution_count": 587,
      "outputs": []
    },
    {
      "cell_type": "code",
      "source": [
        "def Area(points):\n",
        "    def RayCastAlgorithm(vertices):  # Checks if the polygon intersects\n",
        "    # A function to check if a point is on the left side of a line\n",
        "      def is_left(p0, p1, p2):\n",
        "          return (p1[0] - p0[0]) * (p2[1] - p0[1]) - (p2[0] - p0[0]) * (p1[1] - p0[1]) > 0\n",
        "\n",
        "      # Check if any two edges of the polygon intersect\n",
        "      for i in range(len(vertices)):\n",
        "          p1 = vertices[i]\n",
        "          p2 = vertices[(i + 1) % len(vertices)]\n",
        "          for j in range(i + 2, len(vertices) + i - 1):\n",
        "              p3 = vertices[j % len(vertices)]\n",
        "              p4 = vertices[(j + 1) % len(vertices)]\n",
        "              if is_left(p1, p3, p4) != is_left(p2, p3, p4) and is_left(p1, p2, p3) != is_left(p1, p2, p4):\n",
        "                  return True\n",
        "      return False\n",
        "\n",
        "    if RayCastAlgorithm(points) == False:\n",
        "      print(RayCastAlgorithm(points))\n",
        "      \n",
        "      return SimplePolygonArea(points)\n",
        "    else:\n",
        "      return ComplexPolygonArea(points)"
      ],
      "metadata": {
        "id": "ExRYAYn5Zddo"
      },
      "execution_count": 588,
      "outputs": []
    },
    {
      "cell_type": "code",
      "source": [
        "def PlotPolygon(points):\n",
        "  x_values = [p[0] for p in points]\n",
        "  y_values = [p[1] for p in points]\n",
        "  # Plot:\n",
        "    \n",
        "  #connecting all the points using lines \n",
        "  plt.plot(x_values,y_values,color='blue')\n",
        "  plt.plot([x_values[-1],x_values[0]],[y_values[-1],y_values[0]],color='grey') # The line that connects the first and last points\n",
        "\n",
        "  #scattering the points\n",
        "  plt.scatter(x_values, y_values, color='red', label='Scatter Data')\n",
        "\n",
        "  #setting x and y axis limits\n",
        "  plt.xlim(-5, 25)\n",
        "  plt.ylim(-5, 20)\n",
        "  plt.legend()\n",
        "  plt.xlabel('X-axis Label')\n",
        "  plt.ylabel('Y-axis Label')\n",
        "  plt.title('Polygon')\n",
        "\n",
        "  #displaying the graph\n",
        "  plt.show()"
      ],
      "metadata": {
        "id": "LLspum4kSwq4"
      },
      "execution_count": 589,
      "outputs": []
    },
    {
      "cell_type": "code",
      "source": [
        "print(Area(non_intersecting_polygon))\n",
        "print(PlotPolygon(non_intersecting_polygon))\n",
        "print(Area(intersecting_polygon))\n",
        "print(PlotPolygon(intersecting_polygon))\n",
        "print(Area(penis))\n",
        "print(PlotPolygon(penis))"
      ],
      "metadata": {
        "colab": {
          "base_uri": "https://localhost:8080/",
          "height": 990
        },
        "id": "jD_ngiYDT533",
        "outputId": "e3caff4b-e394-424e-eac4-6bd8d79aa2d5"
      },
      "execution_count": 590,
      "outputs": [
        {
          "output_type": "stream",
          "name": "stdout",
          "text": [
            "False\n",
            "46.34799999999999\n"
          ]
        },
        {
          "output_type": "display_data",
          "data": {
            "text/plain": [
              "<Figure size 432x288 with 1 Axes>"
            ],
            "image/png": "[encoded data removed]"
          },
          "metadata": {
            "needs_background": "light"
          }
        },
        {
          "output_type": "stream",
          "name": "stdout",
          "text": [
            "None\n",
            "50.0\n"
          ]
        },
        {
          "output_type": "display_data",
          "data": {
            "text/plain": [
              "<Figure size 432x288 with 1 Axes>"
            ],
            "image/png": "[encoded data removed]"
          },
          "metadata": {
            "needs_background": "light"
          }
        },
        {
          "output_type": "stream",
          "name": "stdout",
          "text": [
            "None\n",
            "False\n",
            "29.5\n"
          ]
        },
        {
          "output_type": "display_data",
          "data": {
            "text/plain": [
              "<Figure size 432x288 with 1 Axes>"
            ],
            "image/png": "[encoded data removed]"
          },
          "metadata": {
            "needs_background": "light"
          }
        },
        {
          "output_type": "stream",
          "name": "stdout",
          "text": [
            "None\n"
          ]
        }
      ]
    },
    {
      "cell_type": "markdown",
      "source": [
        "השטח המתקבל אם אני מפעיל את המיון לפי הנקודות בפשוט או לא הוא שונה. להבין מה יותר מדויק"
      ],
      "metadata": {
        "id": "TTK6X7xlbc4U"
      }
    }
  ]
}