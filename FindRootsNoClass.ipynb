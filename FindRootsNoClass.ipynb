{
  "nbformat": 4,
  "nbformat_minor": 0,
  "metadata": {
    "colab": {
      "provenance": []
    },
    "kernelspec": {
      "name": "python3",
      "display_name": "Python 3"
    },
    "language_info": {
      "name": "python"
    }
  },
  "cells": [
    {
      "cell_type": "code",
      "execution_count": 1,
      "metadata": {
        "id": "99poJqZSTYo1"
      },
      "outputs": [],
      "source": [
        "import numpy as np\n",
        "import random\n",
        "import math\n",
        "import matplotlib.pyplot as plt\n",
        "import pandas as pd"
      ]
    },
    {
      "cell_type": "code",
      "source": [
        "def add_root_to_list(X, root, delta):\n",
        "    for i in X[::-1]:  # go backwards, makes more sense\n",
        "        if abs(root - i) < delta:  # if root is \"epsilon\" close to a different root in list, return\n",
        "            return None\n",
        "    # if the root is not in the list:\n",
        "    X.append(root)"
      ],
      "metadata": {
        "id": "aiEBRwfuTwzY"
      },
      "execution_count": 2,
      "outputs": []
    },
    {
      "cell_type": "code",
      "source": [
        "def find_root_bisection_method(a, b, maxerr, func):\n",
        "    # Check for bracketing:\n",
        "    if not func(a) * func(b) < 0:\n",
        "        return    # No bracket in given section -> exit\n",
        "\n",
        "    # a,b being 2 initial guesses bracketing the root\n",
        "    z = 0.5 * (a + b)\n",
        "    delta = 2 * maxerr\n",
        "    while abs(b - a) >= delta:  # == 2 * max error, saves mul in loop\n",
        "        if func(z) * func(a) < 0:  # (f(a) negative and f(z) positive,z<b)\n",
        "            b = z\n",
        "        else:  # (f(a) and f(z) negative, |z|<|a|)\n",
        "            a = z\n",
        "        z = 0.5 * (a + b)\n",
        "    return z"
      ],
      "metadata": {
        "id": "Xl7DqRDrT3fU"
      },
      "execution_count": 3,
      "outputs": []
    },
    {
      "cell_type": "code",
      "source": [
        "def find_root_secant_method(a, b, delta, func):\n",
        "    # x0,x1 being 2 initial guesses near the root, |f(x1)|<|f(x0)|\n",
        "    x0 = random.uniform(a, b)\n",
        "    x1 = random.uniform(a, b)\n",
        "    j = 0\n",
        "    if abs(func(x1)) < abs(func(x0)):\n",
        "        z = x1\n",
        "    else:\n",
        "        z = x0\n",
        "    while abs(func(z)) > delta:\n",
        "        delta_func = (func(x1) - func(x0))\n",
        "        if abs(delta_func) > delta:  # make sure no devision by 0\n",
        "            z = x1 - ((func(x1) * (x1 - x0)) / delta_func)\n",
        "            x0 = x1\n",
        "            x1 = z\n",
        "        j += 1\n",
        "        if z < a or z > b or j == 10:  # algorithm failed after 10 iterations or z out of range - exit\n",
        "            return   # stopped\n",
        "    return z"
      ],
      "metadata": {
        "id": "asfVegMbUAqe"
      },
      "execution_count": 4,
      "outputs": []
    },
    {
      "cell_type": "code",
      "source": [
        "def find_root_newton_raphson(a, b, delta, func):\n",
        "\n",
        "    def find_der_in_point(f, x):  # think what is the smallest h I can use\n",
        "        h = 10 ^ -5\n",
        "        return (f(x + h) - f(x)) / h\n",
        "\n",
        "    x0 = random.uniform(a, b)  # initial point\n",
        "    j = 0  # counter of iterations\n",
        "    while abs(func(x0)) > delta:\n",
        "        der = find_der_in_point(func, x0)\n",
        "        if der == 0:\n",
        "            return\n",
        "        x0 = x0 - (func(x0) / der)\n",
        "        j += 1\n",
        "        if x0 < a or x0 > b or j == 10:  # algorithm failed after 10 iterations or z out of range - exit\n",
        "            return   # stopped\n",
        "    return x0"
      ],
      "metadata": {
        "id": "T8HX3CMaUJu6"
      },
      "execution_count": 5,
      "outputs": []
    },
    {
      "cell_type": "code",
      "source": [
        "# Lets create a Program that will show us the gain from the number of sections I create on different functions\n",
        "#Test functions from assignment:\n",
        "f0 = lambda x: x - 1\n",
        "f1 = lambda x: 5\n",
        "f2 = lambda x: x**2 -3*x + 5\n",
        "f3 = lambda x: math.sin(x**2)\n",
        "f4 = lambda x: math.e**(-2*x**2)\n",
        "f5 = lambda x: math.atan(x)\n",
        "f6 = lambda x: 1/math.log(x) #out for now\n",
        "f7 = lambda x: math.e**math.e**x\n",
        "f8 = lambda x: math.log(math.log(x)) #out for now\n",
        "f9 = lambda x: math.sin(math.log(x)) #out for now\n",
        "f21 = lambda x: (math.sin(x))/x #out for now\n",
        "f22 = lambda x: (2**(1/(x**2)))*math.sin(1/x)  #out for now\n",
        "\n",
        "#Other functions:\n",
        "f10 = lambda x: 4* math.sin(10*x) - math.cos(x/7)*x + x + 2\n",
        "f11 = lambda x: x**3\n",
        "f12 = lambda x: math.sin(x)\n",
        "f13 = lambda x: 5*(x**3) - 5*(x**2) -5*x -5\n",
        "f14 = lambda x: 5*(x**2) - 1\n",
        "f15 = lambda x: x - 1\n",
        "f16 = lambda x: -2*(x**2) + 2\n",
        "f17 = lambda x: 2*(x**2) - 2\n",
        "f18 = lambda x: math.cos(x/309)\n",
        "f19 = lambda x: x**5 - 34*x**4 +276*x**2 -987\n",
        "f20 = lambda x: math.sin(x**5) + x**2 - 987\n",
        "functions = [f0,f1,f2,f3,f4,f5,f7,f10,f11,f12,f13,f14,f15,f16,f17,f18,f19,f20]\n"
      ],
      "metadata": {
        "id": "MqhZxGWNlzi0"
      },
      "execution_count": 6,
      "outputs": []
    },
    {
      "cell_type": "code",
      "source": [
        "#Copy of function for multy functions and iterations test\n",
        "def intersections(f1, f2, a, b, sections, maxerr=0.001):\n",
        "    f2 = False #Change if you want 1 function or 2\n",
        "    def func(f1, f2):\n",
        "        return lambda x: f1(x) - f2(x)\n",
        "    X = [] #list of roots found during the run\n",
        "    if f2 is not False:\n",
        "      intersect_func = func(f1, f2)\n",
        "    else:\n",
        "      intersect_func = f1\n",
        "\n",
        "    #I'll create a loop scanning the domain [a,b] from side to side\n",
        "    #every section of the domain will be checked using the root finding methods by hirarchy\n",
        "\n",
        "    h = abs((b - a) / sections)  # Divide into 200 sections -> is this the \"sweetspot\"?\n",
        "    left = a\n",
        "    right = a + h\n",
        "\n",
        "    while right <= b:\n",
        "      # Are the limits of the section are the roots? if so -> finish loop on section\n",
        "      if abs(intersect_func(left)) < maxerr:\n",
        "          root = left\n",
        "          add_root_to_list(X, root, maxerr)\n",
        "      elif abs(intersect_func(right)) < maxerr:\n",
        "          root = right\n",
        "          add_root_to_list(X, root, maxerr)\n",
        "      else:  # Else -> look for root inside the section\n",
        "          root = find_root_newton_raphson(left, right, maxerr, intersect_func)\n",
        "          if root is None:\n",
        "              root = find_root_secant_method(left, right, maxerr, intersect_func)\n",
        "              if root is None:\n",
        "                  root = find_root_bisection_method(left, right, maxerr, intersect_func)\n",
        "          if root is not None:\n",
        "              add_root_to_list(X, root, maxerr)\n",
        "              left = root + h\n",
        "              right = left + h\n",
        "              continue\n",
        "\n",
        "      left = right\n",
        "      right += h\n",
        "    return X\n"
      ],
      "metadata": {
        "id": "0KHbSsjctcl9"
      },
      "execution_count": 7,
      "outputs": []
    },
    {
      "cell_type": "code",
      "source": [
        "number_of_roots = []\n",
        "j = 0\n",
        "for func in functions:\n",
        "  #for sections in range(50,1000,50):\n",
        "  try:\n",
        "    roots_num = len(intersections(func, func, -100, 100, 100))\n",
        "    number_of_roots.append(roots_num)\n",
        "    j += 1\n",
        "  except Exception:\n",
        "    number_of_roots.append(f'Error {j}')"
      ],
      "metadata": {
        "id": "cpDYE2WQsjV9"
      },
      "execution_count": 8,
      "outputs": []
    },
    {
      "cell_type": "code",
      "source": [
        "number_of_roots"
      ],
      "metadata": {
        "colab": {
          "base_uri": "https://localhost:8080/"
        },
        "id": "dMt0Itx7tLQp",
        "outputId": "7c9687ea-c0cc-4c1c-a1e1-b7f2c577d8d2"
      },
      "execution_count": 9,
      "outputs": [
        {
          "output_type": "execute_result",
          "data": {
            "text/plain": [
              "[1, 0, 0, 49, 99, 1, 'Error 6', 12, 1, 63, 1, 1, 1, 2, 2, 0, 1, 2]"
            ]
          },
          "metadata": {},
          "execution_count": 9
        }
      ]
    },
    {
      "cell_type": "code",
      "source": [
        "# Lets create a nested list for all the results:\n",
        "number_of_roots = []\n",
        "inner = []\n",
        "for n_of_sections in range(50,1000,50):\n",
        "  for func in functions:\n",
        "    inner = [n_of_sections]\n",
        "    inner.append(len(intersections(func, func, -5, 5, n_of_sections)))\n",
        "    number_of_roots.append(inner)"
      ],
      "metadata": {
        "id": "-Xl0wxI_2K_i"
      },
      "execution_count": 10,
      "outputs": []
    },
    {
      "cell_type": "code",
      "source": [
        "# Perpearions for scatter plot\n",
        "X_values = []\n",
        "Y_values = []\n",
        "for point in number_of_roots:\n",
        "  X_values.append(point[0])\n",
        "  Y_values.append(point[1])"
      ],
      "metadata": {
        "id": "7NbX81W329jW"
      },
      "execution_count": 11,
      "outputs": []
    },
    {
      "cell_type": "code",
      "source": [
        "plt.scatter(X_values, Y_values, c=Y_values, alpha=0.5)\n",
        "plt.ylim(0, 100)\n",
        "plt.title(\"Intersections limit - 80\")\n",
        "\n"
      ],
      "metadata": {
        "colab": {
          "base_uri": "https://localhost:8080/",
          "height": 298
        },
        "id": "px-8H-ob788n",
        "outputId": "2037e006-06b4-4f91-8b77-f6b1dc7d235c"
      },
      "execution_count": 12,
      "outputs": [
        {
          "output_type": "execute_result",
          "data": {
            "text/plain": [
              "Text(0.5, 1.0, 'Intersections limit - 80')"
            ]
          },
          "metadata": {},
          "execution_count": 12
        },
        {
          "output_type": "display_data",
          "data": {
            "text/plain": [
              "<Figure size 432x288 with 1 Axes>"
            ],
            "image/png": "[encoded data removed]"
          },
          "metadata": {
            "needs_background": "light"
          }
        }
      ]
    },
    {
      "cell_type": "code",
      "source": [
        "plt.scatter(X_values, Y_values, c=Y_values, alpha=0.5)\n",
        "plt.ylim(0, 50)\n",
        "plt.title(\"Intersections limit - 50\")"
      ],
      "metadata": {
        "colab": {
          "base_uri": "https://localhost:8080/",
          "height": 298
        },
        "id": "HkUXFokH_Fpf",
        "outputId": "f243d2f1-297a-445e-c627-1131c574a9b6"
      },
      "execution_count": 13,
      "outputs": [
        {
          "output_type": "execute_result",
          "data": {
            "text/plain": [
              "Text(0.5, 1.0, 'Intersections limit - 50')"
            ]
          },
          "metadata": {},
          "execution_count": 13
        },
        {
          "output_type": "display_data",
          "data": {
            "text/plain": [
              "<Figure size 432x288 with 1 Axes>"
            ],
            "image/png": "[encoded data removed]"
          },
          "metadata": {
            "needs_background": "light"
          }
        }
      ]
    },
    {
      "cell_type": "code",
      "source": [
        "plt.scatter(X_values, Y_values, c=Y_values, alpha=0.5)\n",
        "plt.ylim(0, 30)\n",
        "plt.title(\"Intersections limit - 30\")"
      ],
      "metadata": {
        "colab": {
          "base_uri": "https://localhost:8080/",
          "height": 298
        },
        "id": "yzgbxW_5_GEJ",
        "outputId": "c8366b1f-5c1b-4d76-a1a4-32b7448d11ff"
      },
      "execution_count": 14,
      "outputs": [
        {
          "output_type": "execute_result",
          "data": {
            "text/plain": [
              "Text(0.5, 1.0, 'Intersections limit - 30')"
            ]
          },
          "metadata": {},
          "execution_count": 14
        },
        {
          "output_type": "display_data",
          "data": {
            "text/plain": [
              "<Figure size 432x288 with 1 Axes>"
            ],
            "image/png": "[encoded data removed]"
          },
          "metadata": {
            "needs_background": "light"
          }
        }
      ]
    },
    {
      "cell_type": "code",
      "source": [
        "plt.scatter(X_values, Y_values, c=Y_values, alpha=0.5)\n",
        "plt.ylim(0, 10)\n",
        "plt.title(\"Intersections limit - 10\")"
      ],
      "metadata": {
        "colab": {
          "base_uri": "https://localhost:8080/",
          "height": 298
        },
        "id": "HDHIBew5_GkU",
        "outputId": "662945e1-4ef0-4c1b-c9d1-aec8feddbbaa"
      },
      "execution_count": 15,
      "outputs": [
        {
          "output_type": "execute_result",
          "data": {
            "text/plain": [
              "Text(0.5, 1.0, 'Intersections limit - 10')"
            ]
          },
          "metadata": {},
          "execution_count": 15
        },
        {
          "output_type": "display_data",
          "data": {
            "text/plain": [
              "<Figure size 432x288 with 1 Axes>"
            ],
            "image/png": "[encoded data removed]"
          },
          "metadata": {
            "needs_background": "light"
          }
        }
      ]
    },
    {
      "cell_type": "markdown",
      "source": [
        "Final method:"
      ],
      "metadata": {
        "id": "B26r6F4XHqDm"
      }
    },
    {
      "cell_type": "code",
      "source": [
        "def find_root_bisection_method(a, b, maxerr, func):\n",
        "    # a,b being 2 initial guesses bracketing the root (different sign)\n",
        "    delta = 2 * maxerr\n",
        "    while not abs(b - a) < delta:\n",
        "        z = (a + b) / 2\n",
        "        if func(a) * func(z) < 0:\n",
        "            b = z\n",
        "        else:\n",
        "            a = z\n",
        "    return (a + b) / 2  # (a+b)/2 should be closer to the root than a or b statistically\n",
        "\n",
        "def check_bracketing(a, b, f):\n",
        "    if f(a) * f(b) < 0:\n",
        "        return True\n",
        "    else:\n",
        "        return False\n",
        "\n",
        "def find_root_newton_raphson_bisec(a, b, maxerr, func, max_iter=9):\n",
        "    x0 = random.uniform(a, b)\n",
        "    find_der_in_point = lambda f, x, h=0.0001: (f(x + h) - f(x)) / h\n",
        "    for n in range(0, max_iter):\n",
        "        try:\n",
        "            f_x0 = func(x0)\n",
        "            der_x0 = find_der_in_point(func, x0)\n",
        "        except ValueError:\n",
        "            if check_bracketing(a, b, func):\n",
        "                return find_root_bisection_method(a, b, maxerr, func)\n",
        "            return None\n",
        "        if abs(f_x0) < maxerr:\n",
        "            return x0\n",
        "        if der_x0 == 0:\n",
        "            if check_bracketing(a, b, func):\n",
        "                return find_root_bisection_method(a, b, maxerr, func)\n",
        "            return None\n",
        "        x0 = x0 - f_x0 / der_x0\n",
        "    if check_bracketing(a, b, func):\n",
        "        return find_root_bisection_method(a, b, maxerr, func)\n",
        "    return None\n",
        "\n",
        "\n",
        "def Intersections(f1: callable, f2: callable, a: float, b: float, maxerr=0.001):\n",
        "    X = []  # list of roots found during the run\n",
        "    intersect_func = lambda x: 100000 * (f1(x) - f2(x))\n",
        "    # creates the intersect function out of f1 and f2 - both parameters in main function\n",
        "    # I'll create a loop scanning the domain [a,b] from side to side\n",
        "    # every section of the domain will be checked using the root finding methods by hierarchy\n",
        "    h = 1/50  # Create section small enough\n",
        "    left = a\n",
        "    right = a + h\n",
        "\n",
        "    while right <= b:\n",
        "        # Are the limits of the section the roots? if so -> finish loop on section\n",
        "        if abs(intersect_func(left)) < maxerr:\n",
        "            X.append(left)\n",
        "\n",
        "        elif abs(intersect_func(right)) < maxerr:\n",
        "            X.append(right)\n",
        "\n",
        "        # Check for bracketing, Else, leave section\n",
        "        else:\n",
        "            root = find_root_newton_raphson_bisec(left, right, maxerr, intersect_func)\n",
        "            if root is not None and left <= root <= right:\n",
        "                X.append(root)\n",
        "                # If found root -> take a smaller step forward\n",
        "                left = root + h\n",
        "                right = left + h\n",
        "                continue\n",
        "        left = right\n",
        "        right += h\n",
        "\n",
        "    return X"
      ],
      "metadata": {
        "id": "QjM7VnKuHspF"
      },
      "execution_count": 16,
      "outputs": []
    },
    {
      "cell_type": "markdown",
      "source": [
        "Final Method for EX3 (no try-except for speed)"
      ],
      "metadata": {
        "id": "19hfQ2p-252F"
      }
    },
    {
      "cell_type": "code",
      "source": [
        "def find_root_bisection_method(a, b, maxerr, func):\n",
        "    # a,b being 2 initial guesses bracketing the root (different sign)\n",
        "    delta = 2 * maxerr\n",
        "    while not abs(b - a) < delta:\n",
        "        z = (a + b) / 2\n",
        "        if func(a) * func(z) < 0:\n",
        "            b = z\n",
        "        else:\n",
        "            a = z\n",
        "    return (a + b) / 2  # (a+b)/2 should be closer to the root than a or b statistically\n",
        "\n",
        "def check_bracketing(a, b, f):\n",
        "    if f(a) * f(b) < 0:\n",
        "        return True\n",
        "    else:\n",
        "        return False\n",
        "\n",
        "def find_root_newton_raphson_bisec(a, b, maxerr, func,max_iter = 9):\n",
        "    '''\n",
        "    This function implements the Newton Raphson algorithm\n",
        "    and in failed case moves directly to bisection method\n",
        "    return: A single root of func in the given range [a,b]\n",
        "    '''\n",
        "    # x0 = random.uniform(a, b)\n",
        "    x0 = (a + b)/2  # initial point as random -> middle of section\n",
        "\n",
        "    der = lambda f, x, h = 1e-8: ((f(x + h) - f(x)) / h)\n",
        "\n",
        "    for i in range(max_iter):  # Forloop to prevent recalculation every iteration\n",
        "        f_x0 = func(x0)\n",
        "        der_x0 = der(func, x0)\n",
        "        if der_x0 == 0:  # Zero derivative, No solution found\n",
        "            if check_bracketing(a, b, func):\n",
        "                return find_root_bisection_method(a, b, maxerr, func)  # Failed? try bisection\n",
        "            return None\n",
        "        x0 = x0 - f_x0 / der_x0\n",
        "        if (x0 < a) or (x0 > b):  # X is out of range and might cause Valuerror, exit function\n",
        "            break\n",
        "\n",
        "        if abs(f_x0) < maxerr:  # Found solution.\n",
        "            return x0\n",
        "    # Exceeded maximum iterations, No solution found. Try bisection.\n",
        "    if check_bracketing(a, b, func):\n",
        "        return find_root_bisection_method(a, b, maxerr, func)  # Failed? try bisection\n",
        "    return None\n",
        "\n",
        "\n",
        "def intersectionsEX3(f1: callable, f2: callable, a: float, b: float, maxerr=0.001):\n",
        "    \"\"\"\n",
        "    Find as many intersection points as you can. The assignment will be\n",
        "    tested on functions that have at least two intersection points, one\n",
        "    with a positive x and one with a negative x.\n",
        "\n",
        "    This function may not work correctly if there is infinite number of\n",
        "    intersection points. \n",
        "\n",
        "    Approach: In order to improve running times and since I wish to find all the roots,\n",
        "    I'll only visit a section if there is a root in it (via intermediate theorem)\n",
        "\n",
        "    Parameters\n",
        "    ----------\n",
        "    f1 : callable\n",
        "        the first given function\n",
        "    f2 : callable\n",
        "        the second given function\n",
        "    a : float\n",
        "        beginning of the interpolation range.\n",
        "    b : float\n",
        "        end of the interpolation range.\n",
        "    maxerr : float\n",
        "        An upper bound on the difference between the\n",
        "        function values at the approximate intersection points.\n",
        "\n",
        "\n",
        "    Returns\n",
        "    -------\n",
        "    X : iterable of approximate intersection Xs such that for each x in X:\n",
        "        |f1(x)-f2(x)|<=maxerr.\n",
        "\n",
        "    \"\"\"\n",
        "\n",
        "    X = []  # list of roots found during the run\n",
        "    intersect_func = lambda x: 100000 * (f1(x) - f2(x))\n",
        "    # creates the intersect function out of f1 and f2 - both parameters in main function\n",
        "\n",
        "    # I'll create a loop scanning the domain [a,b] from side to side\n",
        "    # every section of the domain will be checked using the root finding methods by hierarchy\n",
        "    h = 1/50  # Create section small enough\n",
        "    left = a\n",
        "    right = a + h\n",
        "\n",
        "    while right <= b:\n",
        "        # Are the limits of the section the roots? if so -> finish loop on section\n",
        "        if abs(intersect_func(left)) < maxerr:\n",
        "            X.append(left)\n",
        "\n",
        "        elif abs(intersect_func(right)) < maxerr:\n",
        "            X.append(right)\n",
        "\n",
        "        # Check for bracketing, Else, leave section\n",
        "        else:\n",
        "            root = find_root_newton_raphson_bisec(left, right, maxerr, intersect_func)\n",
        "            if root is not None:\n",
        "                X.append(root)\n",
        "                # If found root -> take a smaller step forward\n",
        "                left = root + h\n",
        "                right = left + h\n",
        "                continue\n",
        "        left = right\n",
        "        right += h\n",
        "\n",
        "    return X"
      ],
      "metadata": {
        "id": "Qa1m1xf-RXKI"
      },
      "execution_count": 23,
      "outputs": []
    },
    {
      "cell_type": "code",
      "source": [
        "functions = [f0,f1,f2,f3,f4,f5,f6,f7,f8,f9,f10,f11,f12,f13,f14,f15,f16,f17,f18,f19,f20,f21,f22]  #full list"
      ],
      "metadata": {
        "id": "ec_SBuhuSXe0"
      },
      "execution_count": 20,
      "outputs": []
    },
    {
      "cell_type": "code",
      "source": [
        "number_of_roots = []\n",
        "j = 0\n",
        "for func in functions:\n",
        "  #for sections in range(50,1000,50):\n",
        "  try:\n",
        "    roots_num = len(intersectionsEX3(func, lambda x:0, 1, 100))  # the relevant range for this assignment\n",
        "    number_of_roots.append(roots_num)\n",
        "    j += 1\n",
        "  except Exception as e:\n",
        "    print(f'function {j} had an error: {e}')\n",
        "    number_of_roots.append(f'Error {j}')\n",
        "    j += 1"
      ],
      "metadata": {
        "colab": {
          "base_uri": "https://localhost:8080/"
        },
        "id": "FtASnqvmSA2M",
        "outputId": "7fe3eabe-e743-4050-b5c7-d91be6d9a632"
      },
      "execution_count": 30,
      "outputs": [
        {
          "output_type": "stream",
          "name": "stdout",
          "text": [
            "function 6 had an error: float division by zero\n",
            "function 7 had an error: (34, 'Numerical result out of range')\n",
            "function 8 had an error: math domain error\n"
          ]
        }
      ]
    },
    {
      "cell_type": "code",
      "source": [
        "print(number_of_roots)"
      ],
      "metadata": {
        "colab": {
          "base_uri": "https://localhost:8080/"
        },
        "id": "s7cEILZvSC2C",
        "outputId": "5894f4c8-6fe0-4571-f23b-8e73e8475b1e"
      },
      "execution_count": 31,
      "outputs": [
        {
          "output_type": "stream",
          "name": "stdout",
          "text": [
            "[1, 0, 0, 2538, 4849, 0, 'Error 6', 'Error 7', 'Error 8', 2, 39, 0, 31, 1, 0, 1, 1, 1, 0, 1, 1, 31, 0]\n"
          ]
        }
      ]
    },
    {
      "cell_type": "code",
      "source": [
        "#f8(1)  # of course, it's not in range for this function\n",
        "#f6(1)  # again, 1/ ln(x=1)  creates zero devision error"
      ],
      "metadata": {
        "id": "Hc4eKerFVoGE"
      },
      "execution_count": 34,
      "outputs": []
    }
  ]
}