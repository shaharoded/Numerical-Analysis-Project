{
  "nbformat": 4,
  "nbformat_minor": 0,
  "metadata": {
    "colab": {
      "provenance": []
    },
    "kernelspec": {
      "name": "python3",
      "display_name": "Python 3"
    },
    "language_info": {
      "name": "python"
    }
  },
  "cells": [
    {
      "cell_type": "code",
      "source": [
        "import math\n",
        "import numpy as np\n",
        "import pandas as pd\n",
        "import matplotlib.pyplot as plt"
      ],
      "metadata": {
        "id": "lNaVbxZZK7FY"
      },
      "execution_count": 329,
      "outputs": []
    },
    {
      "cell_type": "markdown",
      "source": [
        "Plot function for tests:"
      ],
      "metadata": {
        "id": "xck8jQs7zNjZ"
      }
    },
    {
      "cell_type": "code",
      "source": [
        "def plot_area_between_functions(func1, func2, lower_bound = 1, upper_bound = 100):\n",
        "    x = np.linspace(lower_bound, upper_bound, 1000)\n",
        "    plt.plot(x, func1(x), label='func1')\n",
        "    plt.plot(x, func2(x), label='func2')\n",
        "    plt.fill_between(x, func1(x), func2(x), alpha=0.5)\n",
        "    plt.legend()\n",
        "    plt.show()"
      ],
      "metadata": {
        "id": "UEH9OgUPNxxj"
      },
      "execution_count": 330,
      "outputs": []
    },
    {
      "cell_type": "markdown",
      "source": [
        "My code"
      ],
      "metadata": {
        "id": "v3j6I-hqutw7"
      }
    },
    {
      "cell_type": "markdown",
      "source": [
        "Find roots"
      ],
      "metadata": {
        "id": "Yeow0gSjuzvK"
      }
    },
    {
      "cell_type": "code",
      "source": [
        "import random\n",
        "def add_root_to_list(X, root, maxerr):\n",
        "    for i in X[::-1]:  # go backwards, makes more sense\n",
        "        if abs(root - i) < maxerr:  # if root is \"epsilon\" close to a different root in list, return\n",
        "            return None\n",
        "    # if the root is not in the list:\n",
        "    X.append(root)\n",
        "\n",
        "def find_root_bisection_method(a, b, maxerr, func):\n",
        "    # a,b being 2 initial guesses bracketing the root (different sign)\n",
        "    delta = 2 * maxerr\n",
        "    while not abs(b - a) < delta:\n",
        "        z = (a + b) / 2\n",
        "        if func(a) * func(z) < 0:\n",
        "            b = z\n",
        "        else:\n",
        "            a = z\n",
        "    return (a + b) / 2  # (a+b)/2 should be closer to the root than a or b statistically\n",
        "\n",
        "def find_root_newton_raphson_bisec(a, b, maxerr, func,max_iter = 5):\n",
        "    '''\n",
        "    This function implements the Newton Raphson algorithm\n",
        "    and in failed case moves directly to bisection method\n",
        "    return: A single root of func in the given range [a,b]\n",
        "    '''\n",
        "    x0 = random.uniform(a, b)  # initial point as random -> middle of section\n",
        "    find_der_in_point = lambda f, x, h = 0.0001: (f(x + h) - f(x)) / h\n",
        "    for n in range(0, max_iter):  # Forloop to prevent recalculation every iteration\n",
        "        f_x0 = func(x0)  # Precalculate for efficiency\n",
        "        if abs(f_x0) < maxerr:  # Found solution after max_iter iterations.\n",
        "            return x0\n",
        "        der_x0 = find_der_in_point(func, x0)\n",
        "        if der_x0 == 0:  # Zero derivative, No solution found\n",
        "            return find_root_bisection_method(a, b, maxerr, func)  # Failed? try bisection\n",
        "        x0 = x0 - f_x0 / der_x0  # Exceeded maximum iterations, No solution found. Try bisection.\n",
        "    return find_root_bisection_method(a, b, maxerr, func)  # Failed? try bisection\n",
        "\n",
        "def intersections(f1: callable, f2: callable, a: float, b: float, maxerr=0.001):\n",
        "    \"\"\"\n",
        "    Find as many intersection points as you can. The assignment will be\n",
        "    tested on functions that have at least two intersection points, one\n",
        "    with a positive x and one with a negative x.\n",
        "\n",
        "    This function may not work correctly if there is infinite number of\n",
        "    intersection points. \n",
        "\n",
        "    Approach: In order to improve running times and since I wish to find all the roots,\n",
        "    I'll only visit a section if there is a root in it (via intermediate theorem)\n",
        "\n",
        "    Parameters\n",
        "    ----------\n",
        "    f1 : callable\n",
        "        the first given function\n",
        "    f2 : callable\n",
        "        the second given function\n",
        "    a : float\n",
        "        beginning of the interpolation range.\n",
        "    b : float\n",
        "        end of the interpolation range.\n",
        "    maxerr : float\n",
        "        An upper bound on the difference between the\n",
        "        function values at the approximate intersection points.\n",
        "\n",
        "\n",
        "    Returns\n",
        "    -------\n",
        "    X : iterable of approximate intersection Xs such that for each x in X:\n",
        "        |f1(x)-f2(x)|<=maxerr.\n",
        "\n",
        "    \"\"\"\n",
        "\n",
        "    X = []  # list of roots found during the run\n",
        "    intersect_func = lambda x: 100000 * (f1(x) - f2(x))\n",
        "    # creates the intersect function out of f1 and f2 - both parameters in main function\n",
        "\n",
        "    # I'll create a loop scanning the domain [a,b] from side to side\n",
        "    # every section of the domain will be checked using the root finding methods by hierarchy\n",
        "    h = abs(b - a) * (maxerr/2)  # Divide into proportional sections\n",
        "    #n_sections = math.ceil(abs(b - a) / h)\n",
        "    left = a\n",
        "    right = a + h\n",
        "\n",
        "    while right <= b:\n",
        "        # Are the limits of the section the roots? if so -> finish loop on section\n",
        "        if abs(intersect_func(left)) < maxerr:\n",
        "            X.append(left)\n",
        "\n",
        "        elif abs(intersect_func(right)) < maxerr:\n",
        "            X.append(right)\n",
        "\n",
        "        # Check for bracketing, Else, leave section\n",
        "        else:\n",
        "            if intersect_func(left) * intersect_func(right) < 0:\n",
        "                root = find_root_newton_raphson_bisec(left, right, maxerr, intersect_func)\n",
        "                if left <= root <= right:\n",
        "                    X.append(root)\n",
        "                    # If found root -> take a smaller step forward\n",
        "                    left = root + h\n",
        "                    right = left + h\n",
        "                    continue\n",
        "        left = right\n",
        "        right += h\n",
        "\n",
        "    return X"
      ],
      "metadata": {
        "id": "xa37CsqbuwHn"
      },
      "execution_count": 331,
      "outputs": []
    },
    {
      "cell_type": "markdown",
      "source": [
        "Intergration"
      ],
      "metadata": {
        "id": "FgNesHsN_GgE"
      }
    },
    {
      "cell_type": "markdown",
      "source": [
        "![image.png](data:image/png;base64,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)"
      ],
      "metadata": {
        "id": "vQvnZx2vB0WH"
      }
    },
    {
      "cell_type": "code",
      "source": [
        "def integrateClose1(f: callable, a: float, b: float, n: int) -> np.float32:\n",
        "    if n == 1:\n",
        "        return np.float32(0)\n",
        "    # calculating step size\n",
        "    h = (b - a) / (n-1)\n",
        "    S = 0.0\n",
        "    for i in range(0,n-1): \n",
        "        k = a + i*h\n",
        "        S += (f(k) + f(k+h))\n",
        "\n",
        "    # Interpolation using The closed trapezodial rule\n",
        "    return np.float32(S * h/2)"
      ],
      "metadata": {
        "id": "uZIu_t97IKh4"
      },
      "execution_count": 332,
      "outputs": []
    },
    {
      "cell_type": "code",
      "source": [
        "def integrateClose2_1(f: callable, a: float, b: float, n: int) -> np.float32:\n",
        "    if n == 1:\n",
        "      return np.float32(0)\n",
        "\n",
        "    if n % 2 == 0:\n",
        "        n -= 1\n",
        "\n",
        "    #  Divide into sections\n",
        "    h = (b - a) / (n - 1)\n",
        "    xs = np.linspace(a, b, n)  # n points make n-1 sub-intervals\n",
        "    ys = np.array([f(x) for x in xs])\n",
        "\n",
        "    # Interpolation using Simpson's rule of 2nd degree - Closed\n",
        "    S = h / 3 * np.sum(ys[0:-1:2] + 4 * ys[1::2] + ys[2::2])\n",
        "    return np.float32(S)"
      ],
      "metadata": {
        "id": "jsB8AOhb7Wlg"
      },
      "execution_count": 333,
      "outputs": []
    },
    {
      "cell_type": "code",
      "source": [
        "def integrateClose2_2(f: callable, a: float, b: float, n: int) -> np.float32:\n",
        "    if n == 1:\n",
        "        return np.float32(0)\n",
        "    # calculating step size\n",
        "    h = (b - a) / n\n",
        "    \n",
        "    # Finding sum \n",
        "    integration = f(a) + f(b)\n",
        "    for i in range(1,n): \n",
        "        k = a + i*h\n",
        "        if i%2 == 0:\n",
        "            integration = integration + 2 * f(k)\n",
        "        else:\n",
        "            integration = integration + 4 * f(k)\n",
        "\n",
        "    # Interpolation using Simpson's rule of 2nd degree - Closed\n",
        "    return np.float32(integration * h/3)"
      ],
      "metadata": {
        "id": "CFvW3pAvuFgH"
      },
      "execution_count": 334,
      "outputs": []
    },
    {
      "cell_type": "code",
      "source": [
        "# when n is even this works like version closed2_1\n",
        "# when n is odd this works like version closed2_2\n",
        "# This cannot be addmitted!!! too many calls to n\n",
        "def integrateClose2_3(f: callable, a: float, b: float, n: int) -> np.float32: \n",
        "    if n == 1:\n",
        "        return np.float32(0)\n",
        "    \n",
        "    if n % 2 == 0:\n",
        "      n -= 1\n",
        "\n",
        "    # calculating step size\n",
        "    h = (b - a) / (n - 1)\n",
        "    \n",
        "    # Finding sum \n",
        "    integration = 0.0\n",
        "    for i in range(0,n,2):\n",
        "      k = a + i * h \n",
        "      integration += f(k) + 4*f(k + h) + f(k + 2*h)\n",
        "\n",
        "    # Interpolation using Simpson's rule of 2nd degree - Closed\n",
        "    return np.float32(integration * h/3)"
      ],
      "metadata": {
        "id": "6KNS-OTA5som"
      },
      "execution_count": 335,
      "outputs": []
    },
    {
      "cell_type": "code",
      "source": [
        "def integrateOpen_0(f: callable, a: float, b: float, n: int) -> np.float32:  # Rectangle rule\n",
        "    tmp = 0\n",
        "    S = 0\n",
        "    h = (b-a) / n # Number of sections\n",
        "    d = h/2\n",
        "    # For every section, go to the middle of the section and return 2f(xi)\n",
        "    for i in range(0,n): # Using the n points\n",
        "      xi = a + i*h + d\n",
        "      tmp += f(xi) # Measure at the middle fo the section\n",
        "    S = h * tmp\n",
        "    return np.float32(S)"
      ],
      "metadata": {
        "id": "5YeKlk8rvTa0"
      },
      "execution_count": 336,
      "outputs": []
    },
    {
      "cell_type": "code",
      "source": [
        "def integrateOpen_1(f: callable, a: float, b: float, n: int) -> np.float32:  # trapezodial rule\n",
        "    \n",
        "    # points needs to be dividable to groups of 2\n",
        "    if n % 2 != 0:\n",
        "        n -= 1\n",
        "    if n < 2:\n",
        "        return np.float32(0)\n",
        "    # Outer step -> sections, on each we'll use 3 points\n",
        "    n_of_section_for_n = n//2\n",
        "    outer_section = (b - a) / n_of_section_for_n # The size of each section\n",
        "\n",
        "    # calculating inner step size - h. 4 steps in every section \"outer_section\"\n",
        "    h = outer_section / 3\n",
        "    \n",
        "    # Finding sum \n",
        "    integration = 0.0\n",
        "    xi = a\n",
        "    while xi < b:\n",
        "        integration += (f(xi + h) + f(xi + 2*h))\n",
        "        xi += outer_section\n",
        "\n",
        "    # Interpolation using newton-Coles rule of 1st degree - Open\n",
        "    return np.float32((3/2)*h*integration)"
      ],
      "metadata": {
        "id": "2ka2X7WRL4I6"
      },
      "execution_count": 337,
      "outputs": []
    },
    {
      "cell_type": "code",
      "source": [
        "def integrateOpen_2(f: callable, a: float, b: float, n: int) -> np.float32:  # Milne's Rule\n",
        "    \n",
        "    # points needs to be dividable to groups of 3\n",
        "    if n % 3 != 0:\n",
        "      if n % 3 == 1:\n",
        "        n -= 1\n",
        "      else:\n",
        "        n -= 2\n",
        "    if n < 3:\n",
        "        return np.float32(0)\n",
        "    # Outer step -> sections, on each we'll use 3 points\n",
        "    n_of_section_for_n = n//3\n",
        "    outer_section = (b - a) / n_of_section_for_n # The size of each section\n",
        "\n",
        "    # calculating inner step size - h. 4 steps in every section \"outer_section\"\n",
        "    h = outer_section / 4\n",
        "    \n",
        "    # Finding sum \n",
        "    integration = 0.0\n",
        "    xi = a\n",
        "    while xi < b:\n",
        "        integration += (2 * f(xi+h) - f(xi + 2*h) + 2 * f(xi + 3*h))\n",
        "        xi += outer_section\n",
        "\n",
        "    # Interpolation using newton-Coles rule of 2nd degree - Open\n",
        "    return np.float32((4/3)*h*integration)"
      ],
      "metadata": {
        "id": "EwpPD97LHX9C"
      },
      "execution_count": 338,
      "outputs": []
    },
    {
      "cell_type": "code",
      "source": [
        "def integrateOpen_3(f: callable, a: float, b: float, n: int) -> np.float32:  # Milne's Rule\n",
        "    \n",
        "    # points needs to be dividable to groups of 4\n",
        "    if n % 4 != 0:\n",
        "      if n % 3 == 1:\n",
        "        n -= 1\n",
        "      elif n % 3 == 2:\n",
        "        n -= 2\n",
        "      else:\n",
        "        n -= 3\n",
        "    if n < 4:\n",
        "        return np.float32(0)\n",
        "    # Outer step -> sections, on each we'll use 4 points\n",
        "    n_of_section_for_n = n//4\n",
        "    outer_section = (b - a) / n_of_section_for_n # The size of each section\n",
        "\n",
        "    # calculating inner step size - h. 5 steps in every section \"outer_section\"\n",
        "    h = outer_section / 5\n",
        "    \n",
        "    # Finding sum \n",
        "    integration = 0.0\n",
        "    xi = a\n",
        "    while xi < b:\n",
        "        integration += (11 * f(xi+h) + f(xi + 2*h) +  f(xi + 3*h) + 11 * f(xi + 4*h))\n",
        "        xi += outer_section\n",
        "\n",
        "    # Interpolation using newton-Coles rule of 3rd degree - Open\n",
        "    return np.float32((5/24)*h*integration)"
      ],
      "metadata": {
        "id": "XO3TUJleN9qM"
      },
      "execution_count": 339,
      "outputs": []
    },
    {
      "cell_type": "code",
      "source": [
        "def milnes_rule_n(f, a, b, n):\n",
        "  # Calculate the step size\n",
        "  h = (b - a) / n\n",
        "\n",
        "  # Initialize the sum\n",
        "  integral = 0\n",
        "\n",
        "  # Iterate over the sample points\n",
        "  for i in range(1, n):\n",
        "    # Calculate the value of x at the current sample point\n",
        "    x = a + i * h\n",
        "\n",
        "    # Add the weighted value of the function at the sample point to the sum\n",
        "    if i % 4 == 1:\n",
        "      integral += 7 * f(x)\n",
        "    elif i % 4 == 2:\n",
        "      integral += 32 * f(x)\n",
        "    elif i % 4 == 3:\n",
        "      integral += 12 * f(x)\n",
        "    else:\n",
        "      integral += 32 * f(x)\n",
        "\n",
        "  # Add the value of the function at the last sample point to the sum\n",
        "  integral += 7 * f(b)\n",
        "\n",
        "  # Return the approximated integral\n",
        "  return (h / 45) * integral\n"
      ],
      "metadata": {
        "id": "DO1eQx24LBbH"
      },
      "execution_count": 340,
      "outputs": []
    },
    {
      "cell_type": "code",
      "source": [
        "def integrateClose3(f: callable, a: float, b: float, n: int) -> np.float32:  #  Simpson’s ⅜ rule\n",
        "  # Calculate the step size\n",
        "  h = (b - a) / n\n",
        "\n",
        "  # Initialize the sum\n",
        "  integral = 0\n",
        "\n",
        "  # Iterate over the sample points\n",
        "  for i in range(n):\n",
        "    # Calculate the value of x at the current sample point\n",
        "    x = a + i * h\n",
        "\n",
        "    # Add the weighted value of the function at the sample point to the sum\n",
        "    if i == 0 or i == n:\n",
        "      integral += f(x)\n",
        "    elif i % 3 == 1:\n",
        "      integral += 9 * f(x)\n",
        "    elif i % 3 == 2:\n",
        "      integral += 6 * f(x)\n",
        "    else:\n",
        "      integral += 3 * f(x)\n",
        "\n",
        "  # Return the approximated integral\n",
        "  return np.float32((3 * h / 8) * integral)\n"
      ],
      "metadata": {
        "id": "w9fq9W93-QKu"
      },
      "execution_count": 341,
      "outputs": []
    },
    {
      "cell_type": "code",
      "source": [
        "def integrateClose4(f: callable, a: float, b: float, n: int) -> np.float32:  # Boole’s rule\n",
        "  # Calculate the step size\n",
        "  h = (b - a) / n\n",
        "\n",
        "  # Initialize the sum\n",
        "  integral = 0\n",
        "\n",
        "  # Iterate over the sample points\n",
        "  for i in range(n):\n",
        "    # Calculate the value of x at the current sample point\n",
        "    x = a + i * h\n",
        "\n",
        "    # Add the weighted value of the function at the sample point to the sum\n",
        "    if i == 0 or i == n:\n",
        "      integral += f(x)\n",
        "    elif i % 4 == 1:\n",
        "      integral += 14 * f(x)\n",
        "    elif i % 4 == 2:\n",
        "      integral += 32 * f(x)\n",
        "    elif i % 4 == 3:\n",
        "      integral += 14 * f(x)\n",
        "    else:\n",
        "      integral += 7 * f(x)\n",
        "\n",
        "  # Return the approximated integral\n",
        "  return np.float32((2 * h / 45) * integral)\n"
      ],
      "metadata": {
        "id": "y16fLjw0_H2a"
      },
      "execution_count": 342,
      "outputs": []
    },
    {
      "cell_type": "code",
      "source": [
        "##################################################################\n",
        "# Recursive generation of the Legendre polynomial of order n\n",
        "def Legendre(n, x):\n",
        "    x = np.array(x)\n",
        "    if n == 0:\n",
        "        return x * 0 + 1.0\n",
        "    elif n == 1:\n",
        "        return x\n",
        "    else:\n",
        "        return ((2.0 * n - 1.0) * x * Legendre(n - 1, x) - (n - 1) * Legendre(n - 2, x)) / n\n",
        "\n",
        "\n",
        "##################################################################\n",
        "# Derivative of the Legendre polynomials\n",
        "def DLegendre(n, x):\n",
        "    x = np.array(x)\n",
        "    if n == 0:\n",
        "        return x * 0\n",
        "    elif n == 1:\n",
        "        return x * 0 + 1.0\n",
        "    else:\n",
        "        return (n / (x ** 2 - 1.0)) * (x * Legendre(n, x) - Legendre(n - 1, x))\n",
        "\n",
        "\n",
        "##################################################################\n",
        "# Roots of the polynomial obtained using Newton-Raphson method\n",
        "def LegendreRoots(polyorder, tolerance=1e-20):\n",
        "    if polyorder < 2:\n",
        "        err = 1  # bad polyorder no roots can be found\n",
        "    else:\n",
        "        roots = []\n",
        "        # The polynomials are alternately even and odd functions. So we evaluate only half the number of roots.\n",
        "        for i in range(1, int(polyorder / 2) + 1):\n",
        "            x = np.cos(np.pi * (i - 0.25) / (polyorder + 0.5))\n",
        "            error = 10 * tolerance\n",
        "            iters = 0\n",
        "            while (error > tolerance) and (iters < 1000):\n",
        "                dx = -Legendre(polyorder, x) / DLegendre(polyorder, x)\n",
        "                x = x + dx\n",
        "                iters = iters + 1\n",
        "                error = abs(dx)\n",
        "            roots.append(x)\n",
        "        # Use symmetry to get the other roots\n",
        "        roots = np.array(roots)\n",
        "        if polyorder % 2 == 0:\n",
        "            roots = np.concatenate((-1.0 * roots, roots[::-1]))\n",
        "        else:\n",
        "            roots = np.concatenate((-1.0 * roots, [0.0], roots[::-1]))\n",
        "        err = 0  # successfully determined roots\n",
        "    return [roots, err]\n",
        "\n",
        "\n",
        "##################################################################\n",
        "# Weight coefficients\n",
        "def GaussLegendreWeights(polyorder):\n",
        "    W = []\n",
        "    [xis, err] = LegendreRoots(polyorder)\n",
        "    if err == 0:\n",
        "        W = 2.0 / ((1.0 - xis ** 2) * (DLegendre(polyorder, xis) ** 2))\n",
        "        err = 0\n",
        "    else:\n",
        "        err = 1  # could not determine roots - so no weights\n",
        "    return [W, xis, err]\n",
        "\n",
        "\n",
        "##################################################################\n",
        "# The integral value\n",
        "# func \t\t: the integrand\n",
        "# a, b \t\t: lower and upper limits of the integral\n",
        "# polyorder \t: order of the Legendre polynomial to be used (number of points)\n",
        "#\n",
        "def GaussLegendreQuadrature(func, polyorder, a, b):\n",
        "    [Ws, xs, err] = GaussLegendreWeights(polyorder)\n",
        "    result = 0\n",
        "    for x, w in zip(xs, Ws):\n",
        "        result += w * func((b - a) * 0.5 * x + (b + a) * 0.5)\n",
        "    return (b - a) * 0.5 * result\n",
        "    #return (b - a) * 0.5 * np.sum(Ws * func((b - a) * 0.5 * xs + (b + a) * 0.5))\n",
        "\n",
        "\n",
        "def integrate_Gauss_Quadrature(f, a, b, n):\n",
        "    # let n be the maximal number of points that can be sampled from f\n",
        "    # let's use Gausses method for splines of the function, using 2 to 3 points at the time\n",
        "    S = 0\n",
        "    points_per_section = 2\n",
        "    if n % 2 != 0:\n",
        "      n -= 1\n",
        "    num_sections = n // points_per_section\n",
        "    for i in range(num_sections):\n",
        "        # divide the range into sections\n",
        "        start = a + i * (b - a) / num_sections\n",
        "        end = a + (i + 1) * (b - a) / num_sections\n",
        "        S += GaussLegendreQuadrature(f, points_per_section, start, end)\n",
        "        \n",
        "    # handle the remaining points\n",
        "    remaining_points = n % points_per_section\n",
        "    if remaining_points > 0:\n",
        "        start = b - (b - a) / num_sections\n",
        "        S += GaussLegendreQuadrature(f, remaining_points, start, b)\n",
        "    \n",
        "    return S\n"
      ],
      "metadata": {
        "id": "4WsgF4PR4M1A"
      },
      "execution_count": 343,
      "outputs": []
    },
    {
      "cell_type": "code",
      "source": [
        "def integrate_Gauss_np(f, lower, upper, num_points):\n",
        "    def subinterval_integral(f, lower, upper, num_points):\n",
        "        x, w = np.polynomial.legendre.leggauss(num_points)\n",
        "        x = (upper - lower) / 2 * x + (upper + lower) / 2\n",
        "        y = [f(x) for x in x]\n",
        "        return sum(w * y) * (upper - lower) / 2\n",
        "\n",
        "    subinterval_width = (upper - lower) / num_points\n",
        "    integral = 0\n",
        "    for i in range(num_points):\n",
        "        subinterval_lower = lower + i * subinterval_width\n",
        "        subinterval_upper = subinterval_lower + subinterval_width\n",
        "        integral += subinterval_integral(f, subinterval_lower, subinterval_upper, num_points)\n",
        "    return integral\n",
        "\n"
      ],
      "metadata": {
        "id": "LeertGzC9i7H"
      },
      "execution_count": 344,
      "outputs": []
    },
    {
      "cell_type": "code",
      "source": [
        "def areabetween(f1: callable, f2: callable) -> np.float32:\n",
        "    f = lambda x: f1(x) - f2(x)  # The area between 2 functions is the integral of the 2 in range\n",
        "\n",
        "    # First, return all intersects between f1 and f2\n",
        "    maxerr = 0.01\n",
        "    Intersects = np.array(intersections(f1, f2, 1, 100, maxerr), dtype=np.float32)\n",
        "    integrate = lambda f,a,b,n: integrateClose2_1(f, a, b, n)\n",
        "\n",
        "    S = 0\n",
        "    if len(Intersects) < 2:\n",
        "        return np.NaN\n",
        "\n",
        "    for i in range(len(Intersects) - 1):\n",
        "        S += abs(integrate(f, Intersects[i], Intersects[i + 1], 100))\n",
        "    return np.float32(S)\n"
      ],
      "metadata": {
        "id": "7KM1s9b6uYmP"
      },
      "execution_count": 345,
      "outputs": []
    },
    {
      "cell_type": "code",
      "source": [
        "func1 = lambda x: (x+3)**2 - 4\n",
        "func2 = lambda x: -((x+3)**2) + 4\n",
        "areabetween(func1, func2)"
      ],
      "metadata": {
        "colab": {
          "base_uri": "https://localhost:8080/"
        },
        "id": "IYPpqlvRv472",
        "outputId": "f747f224-947d-4483-e1b9-a2f3a0d9e698"
      },
      "execution_count": 346,
      "outputs": [
        {
          "output_type": "execute_result",
          "data": {
            "text/plain": [
              "nan"
            ]
          },
          "metadata": {},
          "execution_count": 346
        }
      ]
    },
    {
      "cell_type": "code",
      "source": [
        "plot_area_between_functions(func1, func2, 1, 100)"
      ],
      "metadata": {
        "colab": {
          "base_uri": "https://localhost:8080/",
          "height": 265
        },
        "id": "L_ReUU4BwK32",
        "outputId": "65ac7959-2242-4dc6-ad62-85aedcdfecdd"
      },
      "execution_count": 347,
      "outputs": [
        {
          "output_type": "display_data",
          "data": {
            "text/plain": [
              "<Figure size 432x288 with 1 Axes>"
            ],
            "image/png": "[encoded data removed]"
          },
          "metadata": {
            "needs_background": "light"
          }
        }
      ]
    },
    {
      "cell_type": "code",
      "source": [
        "# Lets create a Program that will show us the gain from the number of sections I create on different functions\n",
        "import math\n",
        "#Test functions from assignment:\n",
        "f0 = lambda x: x - 1\n",
        "f1 = lambda x: 5\n",
        "f2 = lambda x: x**2 -3*x + 5\n",
        "f3 = lambda x: math.sin(x**2)\n",
        "f4 = lambda x: math.e**(-2*x**2)\n",
        "f5 = lambda x: math.atan(x)\n",
        "f6 = lambda x: 1/math.log(x+201) \n",
        "f7 = lambda x: math.e**math.e**x #error\n",
        "f8 = lambda x: math.log(math.log(x+201)) #error\n",
        "f9 = lambda x: math.sin(math.log(x+201)) #error \n",
        "f21 = lambda x: (math.sin(x))/x \n",
        "f22 = lambda x: (2**(1/(x**2)))*math.sin(1/x) #error\n",
        "\n",
        "#Other functions:\n",
        "f10 = lambda x: 4* math.sin(10*x) - math.cos(x/7)*x + x + 2\n",
        "f11 = lambda x: x**3\n",
        "f12 = lambda x: math.sin(x)\n",
        "f13 = lambda x: 5*(x**3) - 5*(x**2) -5*x -5\n",
        "f14 = lambda x: 5*(x**2) - 1\n",
        "f15 = lambda x: x - 1\n",
        "f16 = lambda x: -2*(x**2) + 2\n",
        "f17 = lambda x: 2*(x**2) - 2\n",
        "f18 = lambda x: math.cos(x/309)\n",
        "f19 = lambda x: x**5 - 34*x**4 +276*x**2 -987\n",
        "f20 = lambda x: math.sin(x**5) + x**2 - 987\n",
        "f23 = lambda x: x**3 - x**4\n",
        "f24 = lambda x: x**6 - 50*x**2 +276*x**7 -98788747\n",
        "f25 = lambda x: x**10 - 2*x**9 +5*x**7 -98788747*x + x**5\n",
        "f26 = lambda x: 7*x**9 - 2*x**5 +5*x**10 -1298788747*x + x**6\n",
        "f27 = lambda x: math.e**x\n",
        "functions = [f0,f1,f2,f3,f4,f5,f6,f7,f8,f9,f10,f11,f12,f13,f14,f15,f16,f17,f18,f19,f20,f21,f22,f23]"
      ],
      "metadata": {
        "id": "QYRcU8YH1zrI"
      },
      "execution_count": 348,
      "outputs": []
    },
    {
      "cell_type": "markdown",
      "source": [
        "הטסטים שאינם מוסתרים הם הטסטים לפי תוכנית הציונים המעודכנת"
      ],
      "metadata": {
        "id": "X5iwCR1swM2M"
      }
    },
    {
      "cell_type": "code",
      "source": [
        "def Check_Itegrate(integration_func, res=[],n=20):\n",
        "  integrate_function = lambda f, a, b: integration_func(f, a, b, n) # Try based on a small n\n",
        "  '''\n",
        "  f0 = lambda x: x - 1\n",
        "  r = 6\n",
        "  d = abs(integrate_function(f0,-1,5)-r)\n",
        "  print(d)\n",
        "  res.append(d)\n",
        "  f1 = lambda x: 5\n",
        "  r = 30\n",
        "  d = abs(integrate_function(f1,-1,5)-r) \n",
        "  print(d)\n",
        "  res.append(d)\n",
        "  f2 = lambda x: x**2 -3*x + 5\n",
        "  r = 13225/6\n",
        "  d = abs(integrate_function(f2,-3,20)-r)\n",
        "  print(d)\n",
        "  res.append(d)\n",
        "  f3 = lambda x: math.sin(x**2)\n",
        "  r = 0.04228482346\n",
        "  d = abs(integrate_function(f3,0.9,2)-r)\n",
        "  print(d)\n",
        "  res.append(d)\n",
        "  f4 = lambda x: math.e**(-2*x**2)\n",
        "  r = 0.34372\n",
        "  d = abs(integrate_function(f4,0.3,30)-r)\n",
        "  print(d)\n",
        "  res.append(d)\n",
        "  f5 = lambda x: math.atan(x)\n",
        "  r = 2.23297\n",
        "  d = abs(integrate_function(f5,-0.9,3)-r)\n",
        "  print(d)\n",
        "  res.append(d)\n",
        "  f6 = lambda x: 1/math.log(x+201) \n",
        "  r = 0.86674\n",
        "  d = abs(integrate_function(f6,1,3)-r)\n",
        "  print(d)\n",
        "  res.append(d)\n",
        "  f7 = lambda x: math.e**x\n",
        "  r = (math.e)**7 - math.e\n",
        "  d = abs(integrate_function(f7,1,7)-r)\n",
        "  print(d)\n",
        "  res.append(d)\n",
        "  f8 = lambda x: math.log(math.log(x+201))\n",
        "  r = 0.7262811424\n",
        "  d = abs(integrate_function(f8,1,3)-r)\n",
        "  print(d)\n",
        "  res.append(d)\n",
        "  f9 = lambda x: math.sin(math.log(x+201)) #error \n",
        "  r = 9.822208587*10**-3\n",
        "  d = abs(integrate_function(f9,1,3)-r)\n",
        "  print(d)\n",
        "  res.append(d)\n",
        "  f10 = lambda x: (math.sin(x))/x \n",
        "  r = 0.3489890619\n",
        "  d = abs(integrate_function(f10,1,3)-r)\n",
        "  print(d)\n",
        "  res.append(d)\n",
        "  \n",
        "  f11 = lambda x: 2** (1/(x**2)) * (np.sin(1/x))  # The function \"Strong osculations\"\n",
        "  r = -7.78662 * 10 ** 33\n",
        "  d = abs(integrate_function(f11,0.9,2)-r)\n",
        "  print(d)\n",
        "  res.append(d)\n",
        "  '''\n",
        "  f12 = lambda x: 5\n",
        "  r = 15\n",
        "  d = abs(integrate_function(f12,2,5)-r)\n",
        "  print(d)\n",
        "  res.append(d)\n",
        "  f13 = lambda x: pow(x, 2) - 3 * x + 2\n",
        "  r = 202.666666666666\n",
        "  d = abs(integrate_function(f13,2,10)-r)\n",
        "  print(d)\n",
        "  res.append(d)\n",
        "  f14 = lambda x: math.sin(pow(x, 2))\n",
        "  r = 0.467969502583427\n",
        "  d = abs(integrate_function(f14,5,1.5)-r)\n",
        "  print(d)\n",
        "  res.append(d)\n",
        "  f15 = lambda x: 5 * pow(x, 2) - 10 * x + 1\n",
        "  r = 35.3333333\n",
        "  d = abs(integrate_function(f15,2,4)-r)\n",
        "  print(d)\n",
        "  res.append(d)\n",
        "  f16 = lambda x: pow(x, 2) - 5 * x + 2\n",
        "  r = 37.5\n",
        "  d = abs(integrate_function(f16,5,8)-r)\n",
        "  print(d)\n",
        "  res.append(d)\n",
        "  return f'Sum of errors is: {sum(res)}'\n"
      ],
      "metadata": {
        "id": "bY1Fe4yy2neU"
      },
      "execution_count": 349,
      "outputs": []
    },
    {
      "cell_type": "code",
      "source": [
        "def Check_Itegrate_no_print(integration_func, res=[],n=3):\n",
        "  integrate_function = lambda f, a, b: integration_func(f, a, b, n) # Try based on a small n\n",
        "  '''\n",
        "  f0 = lambda x: x - 1\n",
        "  r = 6\n",
        "  d = abs(integrate_function(f0,-1,5)-r)\n",
        "  res.append(d)\n",
        "  f1 = lambda x: 5\n",
        "  r = 30\n",
        "  d = abs(integrate_function(f1,-1,5)-r) \n",
        "  res.append(d)\n",
        "  f2 = lambda x: x**2 -3*x + 5\n",
        "  r = 13225/6\n",
        "  d = abs(integrate_function(f2,-3,20)-r)\n",
        "  res.append(d)\n",
        "  f3 = lambda x: math.sin(x**2)\n",
        "  r = 0.04228482346\n",
        "  d = abs(integrate_function(f3,0.9,2)-r)\n",
        "  res.append(d)\n",
        "  f4 = lambda x: math.e**(-2*x**2)\n",
        "  r = 0.34372\n",
        "  d = abs(integrate_function(f4,0.3,30)-r)\n",
        "  res.append(d)\n",
        "  f5 = lambda x: math.atan(x)\n",
        "  r = 2.23297\n",
        "  d = abs(integrate_function(f5,-0.9,3)-r)\n",
        "  res.append(d)\n",
        "  f6 = lambda x: 1/math.log(x+201) \n",
        "  r = 0.86674\n",
        "  d = abs(integrate_function(f6,1,3)-r)\n",
        "  res.append(d)\n",
        "  f7 = lambda x: math.e**x\n",
        "  r = (math.e)**7 - math.e\n",
        "  d = abs(integrate_function(f7,1,7)-r)\n",
        "  res.append(d)\n",
        "  f8 = lambda x: math.log(math.log(x+201))\n",
        "  r = 0.7262811424\n",
        "  d = abs(integrate_function(f8,1,3)-r)\n",
        "  res.append(d)\n",
        "  f9 = lambda x: math.sin(math.log(x+201)) #error \n",
        "  r = 9.822208587*10**-3\n",
        "  d = abs(integrate_function(f9,1,3)-r)\n",
        "  res.append(d)\n",
        "  f10 = lambda x: (math.sin(x))/x \n",
        "  r = 0.3489890619\n",
        "  d = abs(integrate_function(f10,1,3)-r)\n",
        "  res.append(d)\n",
        "\n",
        "  f11 = lambda x: 2** (1/(x**2)) * (np.sin(1/x)) # The function \"Strong osculations\"\n",
        "  r = -7.78662 * 10 ** 33\n",
        "  d = abs(integrate_function(f11,0.9,10)-r)\n",
        "  res.append(d)\n",
        "  '''\n",
        "  f12 = lambda x: 5\n",
        "  r = 15\n",
        "  d = abs(integrate_function(f12,2,5)-r)\n",
        "  res.append(d)\n",
        "  f13 = lambda x: pow(x, 2) - 3 * x + 2\n",
        "  r = 202.666666666666\n",
        "  d = abs(integrate_function(f13,2,10)-r)\n",
        "  res.append(d)\n",
        "  f14 = lambda x: math.sin(pow(x, 2))\n",
        "  r = 0.467969502583427\n",
        "  d = abs(integrate_function(f14,5,1.5)-r)\n",
        "  res.append(d)\n",
        "  f15 = lambda x: 5 * pow(x, 2) - 10 * x + 1\n",
        "  r = 35.3333333\n",
        "  d = abs(integrate_function(f15,2,4)-r)\n",
        "  res.append(d)\n",
        "  f16 = lambda x: pow(x, 2) - 5 * x + 2\n",
        "  r = 37.5\n",
        "  d = abs(integrate_function(f16,5,8)-r)\n",
        "  res.append(d)  \n",
        "  return sum(res)\n"
      ],
      "metadata": {
        "id": "8l6_lg7_GTz0"
      },
      "execution_count": 350,
      "outputs": []
    },
    {
      "cell_type": "code",
      "source": [
        "integration_functions = [integrateClose1,integrateClose2_1,integrateClose2_2,integrateClose2_3,integrateOpen_0,integrateOpen_1,integrateOpen_2,integrateOpen_3,milnes_rule_n,integrateClose3,integrateClose4,integrate_Gauss_Quadrature,integrate_Gauss_np]\n",
        "#integration_functions = [integrate_Gauss_Quadrature]"
      ],
      "metadata": {
        "id": "xWIAI_uiFFP1"
      },
      "execution_count": 351,
      "outputs": []
    },
    {
      "cell_type": "code",
      "source": [
        "def Compare_integrate_functions(integration_functions):\n",
        "  Ns = [3,4,5,6,7,8,9,10,11,12,13,14,15,16,17,18,19,20,21,30,31,40,41,50,99,100]\n",
        "  res = [Ns]\n",
        "  sublist = []\n",
        "  for n in Ns:\n",
        "    for func in integration_functions:\n",
        "      sublist.append(Check_Itegrate_no_print(func,[],n))\n",
        "    print(f'For {n} points the best integration function is number {sublist.index(min(sublist))} which is {integration_functions[sublist.index(min(sublist))]}')\n",
        "    sublist = []"
      ],
      "metadata": {
        "id": "8RzWirUjFfXX"
      },
      "execution_count": 352,
      "outputs": []
    },
    {
      "cell_type": "code",
      "source": [
        "print(Compare_integrate_functions(integration_functions))"
      ],
      "metadata": {
        "colab": {
          "base_uri": "https://localhost:8080/"
        },
        "id": "gjIN6SV5G3qr",
        "outputId": "dbd311cd-9f67-4e73-b578-20af0586da94"
      },
      "execution_count": 353,
      "outputs": [
        {
          "output_type": "stream",
          "name": "stdout",
          "text": [
            "For 3 points the best integration function is number 12 which is <function integrate_Gauss_np at 0x7f73fb69e430>\n",
            "For 4 points the best integration function is number 12 which is <function integrate_Gauss_np at 0x7f73fb69e430>\n",
            "For 5 points the best integration function is number 12 which is <function integrate_Gauss_np at 0x7f73fb69e430>\n",
            "For 6 points the best integration function is number 11 which is <function integrate_Gauss_Quadrature at 0x7f73fb69e820>\n",
            "For 7 points the best integration function is number 11 which is <function integrate_Gauss_Quadrature at 0x7f73fb69e820>\n",
            "For 8 points the best integration function is number 12 which is <function integrate_Gauss_np at 0x7f73fb69e430>\n",
            "For 9 points the best integration function is number 12 which is <function integrate_Gauss_np at 0x7f73fb69e430>\n",
            "For 10 points the best integration function is number 11 which is <function integrate_Gauss_Quadrature at 0x7f73fb69e820>\n",
            "For 11 points the best integration function is number 11 which is <function integrate_Gauss_Quadrature at 0x7f73fb69e820>\n",
            "For 12 points the best integration function is number 2 which is <function integrateClose2_2 at 0x7f73fb739f70>\n",
            "For 13 points the best integration function is number 1 which is <function integrateClose2_1 at 0x7f73fb85daf0>\n",
            "For 14 points the best integration function is number 1 which is <function integrateClose2_1 at 0x7f73fb85daf0>\n",
            "For 15 points the best integration function is number 1 which is <function integrateClose2_1 at 0x7f73fb85daf0>\n",
            "For 16 points the best integration function is number 1 which is <function integrateClose2_1 at 0x7f73fb85daf0>\n",
            "For 17 points the best integration function is number 1 which is <function integrateClose2_1 at 0x7f73fb85daf0>\n",
            "For 18 points the best integration function is number 1 which is <function integrateClose2_1 at 0x7f73fb85daf0>\n",
            "For 19 points the best integration function is number 1 which is <function integrateClose2_1 at 0x7f73fb85daf0>\n",
            "For 20 points the best integration function is number 1 which is <function integrateClose2_1 at 0x7f73fb85daf0>\n",
            "For 21 points the best integration function is number 1 which is <function integrateClose2_1 at 0x7f73fb85daf0>\n",
            "For 30 points the best integration function is number 1 which is <function integrateClose2_1 at 0x7f73fb85daf0>\n",
            "For 31 points the best integration function is number 1 which is <function integrateClose2_1 at 0x7f73fb85daf0>\n",
            "For 40 points the best integration function is number 1 which is <function integrateClose2_1 at 0x7f73fb85daf0>\n",
            "For 41 points the best integration function is number 1 which is <function integrateClose2_1 at 0x7f73fb85daf0>\n",
            "For 50 points the best integration function is number 1 which is <function integrateClose2_1 at 0x7f73fb85daf0>\n",
            "For 99 points the best integration function is number 1 which is <function integrateClose2_1 at 0x7f73fb85daf0>\n",
            "For 100 points the best integration function is number 1 which is <function integrateClose2_1 at 0x7f73fb85daf0>\n",
            "None\n"
          ]
        }
      ]
    },
    {
      "cell_type": "markdown",
      "source": [
        "צור בדיקה עבור השטח החוזר בין 2 פונקציות ובפרט, האם קיימים מקרים בהם חוזר שטח שלילי?\n",
        "לשים לב - לא אמור."
      ],
      "metadata": {
        "id": "ki6-tsKF-eWK"
      }
    },
    {
      "cell_type": "code",
      "source": [
        "def test_areabetween():\n",
        "    f1 = lambda x: (x-5)**2\n",
        "    f2 = lambda x: 2*x\n",
        "    expected = 48.64382\n",
        "    result = areabetween(f1, f2)\n",
        "    print(f\"Expected {expected}, but got {result}, error: {result - expected}\")\n",
        "\n",
        "    f1 = lambda x: (x-10)**2\n",
        "    f2 = lambda x: 4\n",
        "    expected = 32/3\n",
        "    result = areabetween(f1, f2)\n",
        "    print(f\"Expected {expected}, but got {result}, error: {result - expected}\")\n",
        "\n",
        "    f1 = lambda x: math.sin(math.log(x))\n",
        "    f2 = lambda x: pow(x, 2) - 3 * x + 2\n",
        "    expected = 0.731257\n",
        "    result = areabetween(f1, f2)\n",
        "    print(f\"Expected {expected}, but got {result}, error: {result - expected}\")\n",
        "\n",
        "    f1 = lambda x: 5*(x-5) + 2\n",
        "    f2 = lambda x: (x-5)**3\n",
        "    expected = 2.4064 + 11.31325\n",
        "    result = areabetween(f1, f2)\n",
        "    print(f\"Expected {expected}, but got {result}, error: {result - expected}\")\n",
        "\n",
        "    # f1 = lambda x: math.log(x)\n",
        "    # f2 = lambda x: 20 * math.sin(x)\n",
        "    # expected = 2131.10\n",
        "    # result = areabetween(f1, f2)\n",
        "    # print(f\"Expected {expected}, but got {result}, error: {result - expected}\") #3.085 to 97.159\n",
        "\n",
        "    f1 = lambda x: math.log(x+200) + 5*(x+5) -2*(x-5)**2\n",
        "    f2 = lambda x: 2*math.log(x+5)\n",
        "    expected = 370.94237\n",
        "    result = areabetween(f1, f2)\n",
        "    print(f\"Expected {expected}, but got {result}, error: {result - expected}\")\n",
        "\n"
      ],
      "metadata": {
        "id": "ZvJqZGuyth6b"
      },
      "execution_count": 354,
      "outputs": []
    },
    {
      "cell_type": "code",
      "source": [
        "print(test_areabetween())"
      ],
      "metadata": {
        "colab": {
          "base_uri": "https://localhost:8080/"
        },
        "id": "5S6klLJ_YFkw",
        "outputId": "3a1493ae-d8c4-433a-c50f-88999af85862"
      },
      "execution_count": 355,
      "outputs": [
        {
          "output_type": "stream",
          "name": "stdout",
          "text": [
            "Expected 48.64382, but got 48.643829345703125, error: 9.345703126939497e-06\n",
            "Expected 10.666666666666666, but got 10.666666984558105, error: 3.178914393942023e-07\n",
            "Expected 0.731257, but got 0.7312568426132202, error: -1.5738677983101468e-07\n",
            "Expected 13.71965, but got 13.720526695251465, error: 0.0008766952514651649\n",
            "Expected 370.94237, but got 370.9423828125, error: 1.2812500017389539e-05\n",
            "None\n"
          ]
        }
      ]
    },
    {
      "cell_type": "markdown",
      "source": [
        "Base function for Gauss integration:"
      ],
      "metadata": {
        "id": "JMO9t-qdj7bf"
      }
    },
    {
      "cell_type": "code",
      "source": [
        "##################################################################\n",
        "# Recursive generation of the Legendre polynomial of order n\n",
        "def Legendre(n, x):\n",
        "    x = np.array(x)\n",
        "    if n == 0:\n",
        "        return x * 0 + 1.0\n",
        "    elif n == 1:\n",
        "        return x\n",
        "    else:\n",
        "        return ((2.0 * n - 1.0) * x * Legendre(n - 1, x) - (n - 1) * Legendre(n - 2, x)) / n\n",
        "\n",
        "\n",
        "##################################################################\n",
        "# Derivative of the Legendre polynomials\n",
        "def DLegendre(n, x):\n",
        "    x = np.array(x)\n",
        "    if n == 0:\n",
        "        return x * 0\n",
        "    elif n == 1:\n",
        "        return x * 0 + 1.0\n",
        "    else:\n",
        "        return (n / (x ** 2 - 1.0)) * (x * Legendre(n, x) - Legendre(n - 1, x))\n",
        "\n",
        "\n",
        "##################################################################\n",
        "# Roots of the polynomial obtained using Newton-Raphson method\n",
        "def LegendreRoots(polyorder, tolerance=1e-20):\n",
        "    if polyorder < 2:\n",
        "        err = 1  # bad polyorder no roots can be found\n",
        "    else:\n",
        "        roots = []\n",
        "        # The polynomials are alternately even and odd functions. So we evaluate only half the number of roots.\n",
        "        for i in range(1, int(polyorder / 2) + 1):\n",
        "            x = np.cos(np.pi * (i - 0.25) / (polyorder + 0.5))\n",
        "            error = 10 * tolerance\n",
        "            iters = 0\n",
        "            while (error > tolerance) and (iters < 1000):\n",
        "                dx = -Legendre(polyorder, x) / DLegendre(polyorder, x)\n",
        "                x = x + dx\n",
        "                iters = iters + 1\n",
        "                error = abs(dx)\n",
        "            roots.append(x)\n",
        "        # Use symmetry to get the other roots\n",
        "        roots = np.array(roots)\n",
        "        if polyorder % 2 == 0:\n",
        "            roots = np.concatenate((-1.0 * roots, roots[::-1]))\n",
        "        else:\n",
        "            roots = np.concatenate((-1.0 * roots, [0.0], roots[::-1]))\n",
        "        err = 0  # successfully determined roots\n",
        "    return [roots, err]\n",
        "\n",
        "\n",
        "##################################################################\n",
        "# Weight coefficients\n",
        "def GaussLegendreWeights(polyorder):\n",
        "    W = []\n",
        "    [xis, err] = LegendreRoots(polyorder)\n",
        "    if err == 0:\n",
        "        W = 2.0 / ((1.0 - xis ** 2) * (DLegendre(polyorder, xis) ** 2))\n",
        "        err = 0\n",
        "    else:\n",
        "        err = 1  # could not determine roots - so no weights\n",
        "    return [W, xis, err]\n",
        "\n",
        "\n",
        "##################################################################\n",
        "# The integral value\n",
        "# func \t\t: the integrand\n",
        "# a, b \t\t: lower and upper limits of the integral\n",
        "# polyorder \t: order of the Legendre polynomial to be used\n",
        "#\n",
        "def GaussLegendreQuadrature(func, polyorder, a, b):\n",
        "    [Ws, xs, err] = GaussLegendreWeights(polyorder)\n",
        "    if err == 0:\n",
        "        ans = (b - a) * 0.5 * sum(Ws * func((b - a) * 0.5 * xs + (b + a) * 0.5))\n",
        "    else:\n",
        "        # (in case of error)\n",
        "        err = 1\n",
        "        ans = None\n",
        "    return [ans, err]\n",
        "\n",
        "\n",
        "##################################################################\n",
        "# The integrand - change as required\n",
        "def func(x):\n",
        "    return np.exp(x)\n",
        "\n",
        "\n",
        "##################################################################\n",
        "#\n",
        "\n",
        "order = 5\n",
        "[Ws, xs, err] = GaussLegendreWeights(order)\n",
        "if err == 0:\n",
        "    print(\"Order    : \", order)\n",
        "    print(\"Roots    : \", xs)\n",
        "    print(\"Weights  : \", Ws)\n",
        "else:\n",
        "    print(\"Roots/Weights evaluation failed\")\n",
        "\n",
        "# Integrating the function\n",
        "[ans, err] = GaussLegendreQuadrature(func, order, 1, 100)\n",
        "if err == 0:\n",
        "    print(\"Integral : \", ans)\n",
        "else:\n",
        "    print(\"Integral evaluation failed\")"
      ],
      "metadata": {
        "colab": {
          "base_uri": "https://localhost:8080/"
        },
        "id": "ThLfV0R3Xfeo",
        "outputId": "3eece3a0-8d1c-4fe7-87b3-f0ef933e2076"
      },
      "execution_count": 356,
      "outputs": [
        {
          "output_type": "stream",
          "name": "stdout",
          "text": [
            "Order    :  5\n",
            "Roots    :  [-0.90617985 -0.53846931  0.          0.53846931  0.90617985]\n",
            "Weights  :  [0.23692689 0.47862867 0.56888889 0.47862867 0.23692689]\n",
            "Integral :  3.032227432300602e+42\n"
          ]
        }
      ]
    }
  ]
}